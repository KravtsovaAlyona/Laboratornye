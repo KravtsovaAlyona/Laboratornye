{
  "nbformat": 4,
  "nbformat_minor": 0,
  "metadata": {
    "colab": {
      "name": "\"Числа\"",
      "provenance": [],
      "collapsed_sections": [],
      "toc_visible": true,
      "include_colab_link": true
    },
    "kernelspec": {
      "display_name": "Python 3",
      "name": "python3"
    }
  },
  "cells": [
    {
      "cell_type": "markdown",
      "metadata": {
        "id": "view-in-github",
        "colab_type": "text"
      },
      "source": [
        "<a href=\"https://colab.research.google.com/github/KravtsovaAlyona/Laboratornye/blob/main/%22%D0%A7%D0%B8%D1%81%D0%BB%D0%B0%22.ipynb\" target=\"_parent\"><img src=\"https://colab.research.google.com/assets/colab-badge.svg\" alt=\"Open In Colab\"/></a>"
      ]
    },
    {
      "cell_type": "markdown",
      "metadata": {
        "id": "Rrbk4iv9ncez"
      },
      "source": [
        "№3.2.1\n",
        "Составьте программу, которая запрашивает у пользователя 2 целых числа и выполняет операции:\n",
        "\n",
        "арифметические: +, -, * , / , // , %, **;\n",
        "\n",
        "сравнение: <, <=, >, >=, !=, ==,\n",
        "\n",
        "выводя на экран результат каждого действия. В случае получение вещественного результата, округлите его до 2-х знаков после запятой (используя функцию round())."
      ]
    },
    {
      "cell_type": "code",
      "metadata": {
        "colab": {
          "base_uri": "https://localhost:8080/"
        },
        "id": "iGoL05tgnZda",
        "outputId": "de61e625-f170-4936-f5b0-28afaa5e9abd"
      },
      "source": [
        "# Программирование на языке высокого уровня (Python).\n",
        "# https://www.yuripetrov.ru/edu/python\n",
        "# Задание task_03_02_01.\n",
        "#\n",
        "# Выполнил: Кравцова А.\n",
        "# Группа:АДЭУ-211\n",
        "\n",
        "\n",
        "\n",
        "a = int(input(\"a=\"))\n",
        "b = int(input(\"b=\"))\n",
        "\n",
        "print(a + b)\n",
        "print(a - b)\n",
        "print(a * b)\n",
        "print(round(a / b))\n",
        "print(a // b)\n",
        "print(a % b)\n",
        "print(a ** b)\n",
        "\n",
        "print(a < b)\n",
        "print(a <= b)\n",
        "print(a > b)\n",
        "print(a >= b)\n",
        "print(a != b)\n",
        "print(a == b)\n",
        "\n",
        "\n",
        "\n",
        "# --------------\n",
        "# Пример вывода:\n",
        "#\n",
        "# a=2\n",
        "# b=3\n",
        "# 5\n",
        "# -1\n",
        "# 6\n",
        "# 0.67\n",
        "# 0\n",
        "# 2\n",
        "# 8\n",
        "# True\n",
        "# True\n",
        "# False\n",
        "# False\n",
        "# True\n",
        "# False\n"
      ],
      "execution_count": null,
      "outputs": [
        {
          "output_type": "stream",
          "name": "stdout",
          "text": [
            "a=2\n",
            "b=3\n",
            "5\n",
            "-1\n",
            "6\n",
            "1\n",
            "0\n",
            "2\n",
            "8\n",
            "True\n",
            "True\n",
            "False\n",
            "False\n",
            "True\n",
            "False\n"
          ]
        }
      ]
    },
    {
      "cell_type": "code",
      "metadata": {
        "id": "XtlvlPYaoHip"
      },
      "source": [
        "# Программирование на языке высокого уровня (Python).\n",
        "# https://www.yuripetrov.ru/edu/python\n",
        "# Задание task_03_02_01.\n",
        "#\n",
        "# Выполнил: Кравцова А.\n",
        "# Группа:АДЭУ\n",
        "\n",
        "\n",
        "\n",
        "a = int(input(\"a=\"))\n",
        "b = \n",
        "\n",
        "print(a + b)\n",
        "print(# Удалите комментарий и допишите код)\n",
        "# Удалите комментарий и допишите код для прочих операций\n",
        "\n",
        "print(a < b)\n",
        "print(# Удалите комментарий и допишите код)\n",
        "# Удалите комментарий и допишите код для прочих операций\n",
        "\n",
        "\n",
        "# --------------\n",
        "# Пример вывода:\n",
        "#\n",
        "# a=2\n",
        "# b=3\n",
        "# 5\n",
        "# -1\n",
        "# 6\n",
        "# 0.67\n",
        "# 0\n",
        "# 2\n",
        "# 8\n",
        "# True\n",
        "# True\n",
        "# False\n",
        "# False\n",
        "# True\n",
        "# False\n"
      ],
      "execution_count": null,
      "outputs": []
    },
    {
      "cell_type": "markdown",
      "metadata": {
        "id": "7Oa9Dai12-yo"
      },
      "source": [
        "№3.2.2\n",
        "Вычислите значение следующего выражения (аргументы - целые числа и вводятся с клавиатуры):![3 2 2.PNG](data:image/png;base64,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)\n",
        "Округлите результат до 3-х знаков после запятой, используя функцию round()."
      ]
    },
    {
      "cell_type": "code",
      "metadata": {
        "id": "BhqFfCGxn2Sz",
        "colab": {
          "base_uri": "https://localhost:8080/"
        },
        "outputId": "3bdd9966-b00b-4756-aa56-bc9cd658d4b2"
      },
      "source": [
        "# Программирование на языке высокого уровня (Python).\n",
        "# https://www.yuripetrov.ru/edu/python\n",
        "# Задание task_03_02_02.\n",
        "#\n",
        "# Выполнил: Кравцова А.Е\n",
        "# Группа: АДЭУ-211 \n",
        "\n",
        "\n",
        "x = int(input(\"x=\"))\n",
        "y = int(input(\"y=\"))\n",
        "z = int(input(\"z=\"))\n",
        "\n",
        "res = ((x**5+7)/(abs(-6)*y))**(1/3)/(7-(z % y))\n",
        "\n",
        "print(round(res,2))\n",
        "\n",
        "\n",
        "# --------------\n",
        "# Пример вывода:\n",
        "#\n",
        "# x=0\n",
        "# y=1\n",
        "# z=2\n",
        "# 0.15\n"
      ],
      "execution_count": 9,
      "outputs": [
        {
          "output_type": "stream",
          "name": "stdout",
          "text": [
            "x=0\n",
            "y=1\n",
            "z=2\n",
            "0.15\n"
          ]
        }
      ]
    },
    {
      "cell_type": "markdown",
      "metadata": {
        "id": "6fGu5bsP6pIo"
      },
      "source": [
        "№ 3.2.3\n",
        "\n",
        "Дана электрическая цепь, состоящая из 2-х последовательно соединенных проводников (сопротивление каждого известно). Найти общее сопротивление цепи (округление результата необходимо выполнить до 1-го знака после запятой).\n",
        "\n"
      ]
    },
    {
      "cell_type": "code",
      "metadata": {
        "colab": {
          "base_uri": "https://localhost:8080/"
        },
        "id": "a6HpHtvG65Vn",
        "outputId": "72b7e409-07d8-4240-fcec-4e8bd0f10531"
      },
      "source": [
        "# Программирование на языке высокого уровня (Python).\n",
        "# https://www.yuripetrov.ru/edu/python\n",
        "# Задание task_03_02_03.\n",
        "#\n",
        "# Выполнил: Кравцова\n",
        "# Группа: АДЭУ-211\n",
        "\n",
        "\n",
        "\n",
        "# Сопротивление первого проводника\n",
        "r1 = float(input(\"r1=\"))\n",
        "# Сопротивление второго проводника\n",
        "r2 = float(input(\"r2=\"))\n",
        "\n",
        "# Общее сопротивление\n",
        "r = r1+r2\n",
        "\n",
        "print(round(r,1))\n",
        "\n",
        "\n",
        "# --------------\n",
        "# Пример вывода:\n",
        "#\n",
        "# r1=12.2\n",
        "# r2=16.1\n",
        "# 28.3\n"
      ],
      "execution_count": 22,
      "outputs": [
        {
          "output_type": "stream",
          "name": "stdout",
          "text": [
            "r1=12.2\n",
            "r2=16.1\n",
            "28.3\n"
          ]
        }
      ]
    },
    {
      "cell_type": "markdown",
      "metadata": {
        "id": "Eycao2xW8bYI"
      },
      "source": [
        "№ 3.2.4\n",
        "\n",
        "Дано двузначное и трехзначное число. Для каждого выведите на экран сумму и произведение цифр."
      ]
    },
    {
      "cell_type": "code",
      "metadata": {
        "colab": {
          "base_uri": "https://localhost:8080/"
        },
        "id": "CJ-XQwzN8fiS",
        "outputId": "71c4e734-7c17-4e5b-d928-3ca9e826eed3"
      },
      "source": [
        "# Программирование на языке высокого уровня (Python).\n",
        "# https://www.yuripetrov.ru/edu/python\n",
        "# Задание task_03_02_04.\n",
        "#\n",
        "# Выполнил: Кравцова\n",
        "# Группа: АДЭУ-211\n",
        "\n",
        "\n",
        "# Двузначное число\n",
        "num2 = int(input(\"num2=\"))\n",
        "# Трехзначное число\n",
        "num3 = int(input(\"num3=\"))\n",
        "\n",
        "# 1-я цифра числа 'num2'\n",
        "num2_1 = num2//10\n",
        "# 2-я цифра числа 'num2'\n",
        "num2_2 = num2%10\n",
        "\n",
        "# Сумма цифр числа 'num2'\n",
        "num2_s = num2_1+num2_2\n",
        "# Произведение цифр числа 'num2'\n",
        "num2_p = num2_1 * num2_2\n",
        "\n",
        "# 1-я цифра числа 'num3'\n",
        "num3_1 = num3//100\n",
        "# 2-я цифра числа 'num3'\n",
        "num3_2 =(num3%100)//10\n",
        "# 3-я цифра числа 'num3'\n",
        "num3_3 = num3 % 10 \n",
        "\n",
        "# Сумма цифр числа 'num3'\n",
        "num3_s = num3_1 + num3_2 + num3_3\n",
        "# Произведение цифр числа 'num3_3'\n",
        "num3_p = num3_1 * num3_2 * num3_3\n",
        "print (num2_s,num2_p)\n",
        "print (num3_s,num3_p)\n",
        "\n",
        "\n",
        "# --------------\n",
        "# Пример вывода:\n",
        "#\n",
        "# Двузначное число: 45\n",
        "# Трехзначное число: 456\n",
        "# Сумма и произведение цифр двузначного числа: 9 20\n",
        "# Сумма и произведение цифр трехзначного числа: 15 120\n"
      ],
      "execution_count": 24,
      "outputs": [
        {
          "output_type": "stream",
          "name": "stdout",
          "text": [
            "num2=45\n",
            "num3=456\n",
            "9 20\n",
            "15 120\n"
          ]
        }
      ]
    },
    {
      "cell_type": "markdown",
      "metadata": {
        "id": "hWxHF7b4BhLX"
      },
      "source": [
        "№ 3.2.5\n",
        "\n",
        "С начала суток прошло m минут (0<m≤24∗60). Определите:\n",
        "\n",
        "целое количество часов, прошедших с начала суток;\n",
        "\n",
        "количество минут, прошедших с момента начала последнего часа."
      ]
    },
    {
      "cell_type": "code",
      "metadata": {
        "colab": {
          "base_uri": "https://localhost:8080/"
        },
        "id": "5QMUmKaEBqyd",
        "outputId": "72c62225-9a2d-4158-c6a3-fb0a8d77aa7d"
      },
      "source": [
        "# Программирование на языке высокого уровня (Python).\n",
        "# https://www.yuripetrov.ru/edu/python\n",
        "# Задание task_03_02_05.\n",
        "#\n",
        "# Выполнил: Кравцова\n",
        "# Группа: АДЭУ-211\n",
        "\n",
        "\n",
        "\n",
        "# Количество минут\n",
        "m = int(input(\"m=\"))\n",
        "\n",
        "# Количество часов, прошедших с начала суток\n",
        "h = m//60\n",
        "# Количество минут, прошедших с момента начала последнего часа\n",
        "m2 = m%60\n",
        "\n",
        "print(\"Количество часов, прошедших с начала суток:\", h )\n",
        "print(\"Количество минут, прошедших с момента начала последнего часа:\", m2)\n",
        "\n",
        "# --------------\n",
        "# Пример вывода:\n",
        "#\n",
        "# Количество минут, прошедшее с начала суток: 123\n",
        "# Количество часов, прошедших с начала суток: 2\n",
        "# Количество минут, прошедших с момента начала последнего часа: 3\n"
      ],
      "execution_count": 25,
      "outputs": [
        {
          "output_type": "stream",
          "name": "stdout",
          "text": [
            "m=123\n",
            "Количество часов, прошедших с начала суток: 2\n",
            "Количество минут, прошедших с момента начала последнего часа: 3\n"
          ]
        }
      ]
    },
    {
      "cell_type": "markdown",
      "metadata": {
        "id": "_SLvTm5iDWT1"
      },
      "source": [
        "№ 3.2.6\n",
        "\n",
        "Дано уравнение ax + b = 0 и отрезок [m;n]. Ответьте на вопрос, попадает ли решение уравнения в указанный отрезок."
      ]
    },
    {
      "cell_type": "code",
      "metadata": {
        "colab": {
          "base_uri": "https://localhost:8080/"
        },
        "id": "awEgGG0WDebN",
        "outputId": "b3f94b07-d632-4d73-b6a5-07e684f22756"
      },
      "source": [
        "# Программирование на языке высокого уровня (Python).\n",
        "# https://www.yuripetrov.ru/edu/python\n",
        "# Задание task_03_02_06.\n",
        "#\n",
        "# Выполнил: Кравцова\n",
        "# Группа: АДЭУ-211\n",
        "\n",
        "a = int(input(\"a=\"))\n",
        "b = int(input(\"b=\"))\n",
        "m = int(input(\"m=\"))\n",
        "n = int(input(\"n=\"))\n",
        "\n",
        "x = -1*(a/b)\n",
        "\n",
        "is_ok = m<=x<=n\n",
        "\n",
        "print(\"Попадает:\", is_ok)\n",
        "\n",
        "\n",
        "# --------------\n",
        "# Пример вывода:\n",
        "#\n",
        "# Введите a = 1\n",
        "# Введите b = 2\n",
        "# Введите m = -5\n",
        "# Введите n = 5\n",
        "# Попадает: True\n"
      ],
      "execution_count": 26,
      "outputs": [
        {
          "output_type": "stream",
          "name": "stdout",
          "text": [
            "a=1\n",
            "b=2\n",
            "m=-5\n",
            "n=5\n",
            "Попадает: True\n"
          ]
        }
      ]
    }
  ]
}