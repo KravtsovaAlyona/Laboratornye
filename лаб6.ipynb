{
  "nbformat": 4,
  "nbformat_minor": 0,
  "metadata": {
    "colab": {
      "name": "лаб6",
      "provenance": [],
      "collapsed_sections": [],
      "authorship_tag": "ABX9TyPCNNoL/B8Ba69vaI9DPkAF",
      "include_colab_link": true
    },
    "kernelspec": {
      "name": "python3",
      "display_name": "Python 3"
    },
    "language_info": {
      "name": "python"
    }
  },
  "cells": [
    {
      "cell_type": "markdown",
      "metadata": {
        "id": "view-in-github",
        "colab_type": "text"
      },
      "source": [
        "<a href=\"https://colab.research.google.com/github/KravtsovaAlyona/Laboratornye/blob/main/%D0%BB%D0%B0%D0%B16.ipynb\" target=\"_parent\"><img src=\"https://colab.research.google.com/assets/colab-badge.svg\" alt=\"Open In Colab\"/></a>"
      ]
    },
    {
      "cell_type": "markdown",
      "source": [
        "6/2/1-6/2/7 Для задач 6.2.1-6.2.7 ответьте на следующие вопросы:\n",
        "\n",
        "Что выполняет приведенная функция?\n",
        "\n",
        "Какова вычислительная сложность алгоритма (наихудшая оценка, O-нотацию)?\n",
        "\n",
        "Ответы необходимо указать в строке документации с пометкой «Алгоритм» и «Сложность» соответственно. Сложность - один из вариантов:\n",
        "\n",
        "O(1), O(N), O(log(N)), O(N log(N)) или O(N^2). считая, что N - размер входных данных."
      ],
      "metadata": {
        "id": "7-6wn_voXJw0"
      }
    },
    {
      "cell_type": "code",
      "execution_count": null,
      "metadata": {
        "colab": {
          "base_uri": "https://localhost:8080/"
        },
        "id": "EWZb38J6XH4I",
        "outputId": "7993a099-bba1-4d63-ca89-5d1a9d043103"
      },
      "outputs": [
        {
          "output_type": "execute_result",
          "data": {
            "text/plain": [
              "[-2, -2, -2, 1, 1, 2, 2, 2, 2, 2, 3, 3, 3, 4, 4, 5, 65]"
            ]
          },
          "metadata": {},
          "execution_count": 1
        }
      ],
      "source": [
        "# Программирование на языке высокого уровня (Python).\n",
        "# https://www.yuripetrov.ru/edu/python\n",
        "# Задание task_06_02_01.\n",
        "# Выполнил: Кравцова\n",
        "# Группа: !!!\n",
        "# E-mail: !!!\n",
        "#Алгоритм: занимается сортировкой списка по возрастанию\n",
        "\n",
        "\n",
        "def foo(a):\n",
        "   \n",
        "    for i in range(len(a), 0, -1): #O(len(a))\n",
        "        for j in range(1, i):#O(N)\n",
        "            if a[j-1] > a[j]:#O(1)\n",
        "                a[j-1], a[j] = a[j], a[j-1] #O(1)\n",
        "    return a\n",
        "\n",
        "#O(len(a))*#O(N)*(#O(1)+#O(1))=2*N*O(len(a))\n",
        "a = [1, 2, 3, 4, 2, 1, 3, 4, 3, 5, -2, -2, 2, -2, 65, 2, 2]\n",
        "foo(a)"
      ]
    },
    {
      "cell_type": "code",
      "source": [
        "# Программирование на языке высокого уровня (Python).\n",
        "# https://www.yuripetrov.ru/edu/python\n",
        "# Задание task_06_02_02.\n",
        "#\n",
        "# Выполнил: Кравцова\n",
        "# Группа: !!!\n",
        "# E-mail: !!!\n",
        "# Алгоритм: выводит то же самое число\n",
        "\n",
        "\n",
        "\n",
        "def foo(i):\n",
        "    digits = \"0123456789\"\n",
        "    if i == 0:#O(1)\n",
        "        return \"0\"\n",
        "    result = \"\"\n",
        "    while i > 0:#O(N)\n",
        "        result = digits[i%10] + result\n",
        "        i = i // 10\n",
        "    return result\n",
        "i=34\n",
        "foo(i)"
      ],
      "metadata": {
        "id": "Y338oI8KXy6a",
        "colab": {
          "base_uri": "https://localhost:8080/",
          "height": 36
        },
        "outputId": "173249ac-23d7-4c3e-cf51-64c5bf7ff0f8"
      },
      "execution_count": 1,
      "outputs": [
        {
          "output_type": "execute_result",
          "data": {
            "application/vnd.google.colaboratory.intrinsic+json": {
              "type": "string"
            },
            "text/plain": [
              "'34'"
            ]
          },
          "metadata": {},
          "execution_count": 1
        }
      ]
    },
    {
      "cell_type": "code",
      "source": [
        "# Программирование на языке высокого уровня (Python).\n",
        "# https://www.yuripetrov.ru/edu/python\n",
        "# Задание task_06_02_03.\n",
        "#\n",
        "# Выполнил: Кравцова\n",
        "# Группа: !!!\n",
        "# E-mail: !!!\n",
        "# Алгоритм: выводит сумму чисел, записанных в веденной строке\n",
        "\n",
        "def foo(s):\n",
        "    val = 0\n",
        "    for c in s: #O(N)\n",
        "        if c.isdigit():#O(1)\n",
        "            val += int(c)\n",
        "    return val\n",
        "s = \"4, 6, 7, 9\"\n",
        "foo(s)\n",
        "#O(N)*O(1)=O(N)"
      ],
      "metadata": {
        "id": "haNjHLfoX2jC",
        "colab": {
          "base_uri": "https://localhost:8080/"
        },
        "outputId": "021c3d69-2a14-47e8-cd68-9050b031a4a3"
      },
      "execution_count": 2,
      "outputs": [
        {
          "output_type": "execute_result",
          "data": {
            "text/plain": [
              "26"
            ]
          },
          "metadata": {},
          "execution_count": 2
        }
      ]
    },
    {
      "cell_type": "code",
      "source": [
        "# Программирование на языке высокого уровня (Python).\n",
        "# https://www.yuripetrov.ru/edu/python\n",
        "# Задание task_06_02_04.\n",
        "#\n",
        "# Выполнил: Кравцова\n",
        "# Группа: !!!\n",
        "# E-mail: !!!\n",
        "# Алгоритм: выводит все числа до введенного числа\n",
        "\n",
        "\n",
        "\n",
        "def foo(n):\n",
        "    \n",
        "    res = []\n",
        "    for i in range(1, n + 1):#O(N)\n",
        "        divisors = 0\n",
        "        j = 2\n",
        "        while j < i and divisors == 0:#O(1)\n",
        "            if i % j == 0:#O(1)\n",
        "                divisors += 1\n",
        "            j += 1\n",
        "\n",
        "        if divisors == 0:#O(1)\n",
        "            res.append(i)\n",
        "\n",
        "    return res\n",
        "n = 14\n",
        "foo(n)\n",
        "#O(N)*(O(1)*O(1)+O(1))= 2* O(N)"
      ],
      "metadata": {
        "id": "XTSztrpMX9vO",
        "colab": {
          "base_uri": "https://localhost:8080/"
        },
        "outputId": "0355c51e-33e5-4625-c534-9d2359d7b8ae"
      },
      "execution_count": 3,
      "outputs": [
        {
          "output_type": "execute_result",
          "data": {
            "text/plain": [
              "[1, 2, 3, 5, 7, 11, 13]"
            ]
          },
          "metadata": {},
          "execution_count": 3
        }
      ]
    },
    {
      "cell_type": "code",
      "source": [
        "# Программирование на языке высокого уровня (Python).\n",
        "# https://www.yuripetrov.ru/edu/python\n",
        "# Задание task_06_02_05.\n",
        "#\n",
        "# Выполнил: Кравцова\n",
        "# Группа: !!\n",
        "# E-mail: !!!\n",
        "# Алгоритм: проверяет четность/нечетность элементов списка, если хотя бы один - четный, то выводится True\n",
        "\n",
        "\n",
        "\n",
        "def foo(nums):\n",
        "    \n",
        "    for x in nums:#O(1)\n",
        "        if x % 2 == 0:#O(1)\n",
        "            return True\n",
        "    else:\n",
        "        return False\n",
        "nums = 2, 4, 6, 8, 10\n",
        "foo(nums)"
      ],
      "metadata": {
        "id": "hUL3X-kQYHCL",
        "colab": {
          "base_uri": "https://localhost:8080/"
        },
        "outputId": "39703817-6fde-4907-b27c-9e83ee57132b"
      },
      "execution_count": 4,
      "outputs": [
        {
          "output_type": "execute_result",
          "data": {
            "text/plain": [
              "True"
            ]
          },
          "metadata": {},
          "execution_count": 4
        }
      ]
    },
    {
      "cell_type": "code",
      "source": [
        "# Программирование на языке высокого уровня (Python).\n",
        "# https://www.yuripetrov.ru/edu/python\n",
        "# Задание task_06_02_06.\n",
        "#\n",
        "# Выполнил: Кравцова\n",
        "# Группа: !!!\n",
        "# E-mail: !!!\n",
        "# Алгоритм: вычисляет сумму первого элемента и последнего элемента в квадрате\n",
        "# Сложность: О(1)\n",
        "\n",
        "def foo(nums):\n",
        "    return (nums[0] + nums[-1] ** 2)#O(1)\n",
        "nums = 1, 14, 18, 3\n",
        "foo(nums)"
      ],
      "metadata": {
        "id": "rBw8ry2xYKJ2",
        "colab": {
          "base_uri": "https://localhost:8080/"
        },
        "outputId": "f57cc78c-a15c-4cc1-ec11-6337e76807f8"
      },
      "execution_count": 8,
      "outputs": [
        {
          "output_type": "execute_result",
          "data": {
            "text/plain": [
              "10"
            ]
          },
          "metadata": {},
          "execution_count": 8
        }
      ]
    }
  ]
}