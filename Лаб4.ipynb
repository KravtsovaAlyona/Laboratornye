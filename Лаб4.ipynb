{
  "nbformat": 4,
  "nbformat_minor": 0,
  "metadata": {
    "colab": {
      "name": "Лаб4",
      "provenance": [],
      "collapsed_sections": [],
      "authorship_tag": "ABX9TyOt9a9HD5+vIVGRvpwu14uV",
      "include_colab_link": true
    },
    "kernelspec": {
      "name": "python3",
      "display_name": "Python 3"
    },
    "language_info": {
      "name": "python"
    }
  },
  "cells": [
    {
      "cell_type": "markdown",
      "metadata": {
        "id": "view-in-github",
        "colab_type": "text"
      },
      "source": [
        "<a href=\"https://colab.research.google.com/github/KravtsovaAlyona/Laboratornye/blob/main/%D0%9B%D0%B0%D0%B14.ipynb\" target=\"_parent\"><img src=\"https://colab.research.google.com/assets/colab-badge.svg\" alt=\"Open In Colab\"/></a>"
      ]
    },
    {
      "cell_type": "markdown",
      "metadata": {
        "id": "tYlfx50HoyMN"
      },
      "source": [
        "№ 4.2.1\n",
        "\n",
        "Рассчитать значение f при заданном значении вещественного числа x:\n",
        "![421.PNG](data:image/png;base64,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)\n",
        "При выводе на экран оставьте 2 знака после запятой."
      ]
    },
    {
      "cell_type": "code",
      "metadata": {
        "colab": {
          "base_uri": "https://localhost:8080/"
        },
        "id": "_M2QcK7Uov5G",
        "outputId": "9a2da577-fcd3-479e-e0e4-98ee659edd8c"
      },
      "source": [
        "#Выполнила: Кравцова АЕ\n",
        "#Группа: АДЭУ-211\n",
        "\n",
        "\n",
        "from math import sqrt\n",
        "x=int(input('Введите x:'))\n",
        "if x>=0:\n",
        "    f=sqrt(x)+x*x\n",
        "else:\n",
        "    f=1/x\n",
        "print(round(f,2))"
      ],
      "execution_count": null,
      "outputs": [
        {
          "output_type": "stream",
          "name": "stdout",
          "text": [
            "Введите x:45\n",
            "2031.71\n"
          ]
        }
      ]
    },
    {
      "cell_type": "markdown",
      "metadata": {
        "id": "Db04-0uOs28S"
      },
      "source": [
        "№ 4.2.2\n",
        "\n",
        "Определите максимальное и минимальное значения из двух различных целых чисел."
      ]
    },
    {
      "cell_type": "code",
      "metadata": {
        "colab": {
          "base_uri": "https://localhost:8080/"
        },
        "id": "fN7s65XctZLs",
        "outputId": "f3d795ed-4ab9-43b2-c623-8ae2fbdd2d4b"
      },
      "source": [
        "#Выполнила: Кравцова\n",
        "#Группа: АДЭУ-211\n",
        "a1=int(input('Введите первое число:'))\n",
        "a2=int(input('Введите второе число:'))\n",
        "a_min=min(a1,a2)\n",
        "a_max=max(a1,a2)\n",
        "print('Максимум:',a_max)\n",
        "print('Минимум:',a_min)"
      ],
      "execution_count": null,
      "outputs": [
        {
          "output_type": "stream",
          "name": "stdout",
          "text": [
            "Введите первое число:2\n",
            "Введите второе число:5\n",
            "Максимум: 5\n",
            "Минимум: 2\n"
          ]
        }
      ]
    },
    {
      "cell_type": "markdown",
      "metadata": {
        "id": "XNluAVjfz10s"
      },
      "source": [
        "№ 4.2.3\n",
        "\n",
        "Вася пытается высунуть голову в форточку размерами a и b см. Приняв условно, что его голова - круглая диаметром d см, определите, сможет ли Вася сделать это. Для прохождения головы в форточку необходим зазор в 1 см. с каждой стороны."
      ]
    },
    {
      "cell_type": "code",
      "metadata": {
        "colab": {
          "base_uri": "https://localhost:8080/"
        },
        "id": "UnF-6Ehf0B8Q",
        "outputId": "8edc94a4-3051-4740-cf38-b4a3e59f6123"
      },
      "source": [
        "#Выполнила:Кравцова \n",
        "#Группа: АДЭУ-211\n",
        "a=int(input('Ширина форточки:'))\n",
        "b=int(input('Высота форточки:'))\n",
        "d=int(input('Диаметр головы:'))\n",
        "\n",
        "if a>0 and b>0 and d>0:\n",
        "    fix=1\n",
        "else: print(\"Повторите ввод\" )\n",
        "\n",
        "if d + 2 >= a and d + 2 <= b:\n",
        "    print ('Да')\n",
        "else: print('Нет')\n",
        "\n"
      ],
      "execution_count": null,
      "outputs": [
        {
          "output_type": "stream",
          "name": "stdout",
          "text": [
            "Ширина форточки:5\n",
            "Высота форточки:6\n",
            "Диаметр головы:6\n",
            "Нет\n"
          ]
        }
      ]
    },
    {
      "cell_type": "markdown",
      "metadata": {
        "id": "ZOg6RCfw31TR"
      },
      "source": [
        "№ 4.2.4\n",
        "\n",
        "Известны год и номер месяца сегодняшнего дня, а также год и номер месяца рождения человека (нумерация месяцев с 1: январь - 1 и т.д.). Определите возраст человека (число полных лет)."
      ]
    },
    {
      "cell_type": "code",
      "metadata": {
        "colab": {
          "base_uri": "https://localhost:8080/"
        },
        "id": "vUVsuW1J4j8w",
        "outputId": "88213185-b827-404e-f1d1-d79b65ff9948"
      },
      "source": [
        "#Выполнила:Кравцова\n",
        "#Группа: АДЭУ-211\n",
        "\n",
        "year_today=int(input(\"Введите текущий год:\"))\n",
        "month_today=int(input('Введите текущий месяц:'))\n",
        "year=int(input('Введите год рождения:'))\n",
        "month=int(input('Введите месяц рождения:'))\n",
        "\n",
        "age_0=year_today-year\n",
        "\n",
        "if month>month_today:\n",
        "  age=age_0-1\n",
        "else:\n",
        "  age=age_0\n",
        "\n",
        "print('Полных лет:', age)\n"
      ],
      "execution_count": null,
      "outputs": [
        {
          "output_type": "stream",
          "name": "stdout",
          "text": [
            "Введите текущий год:2015\n",
            "Введите текущий месяц:6\n",
            "Введите год рождения:2010\n",
            "Введите месяц рождения:8\n",
            "Полных лет: 4\n"
          ]
        }
      ]
    },
    {
      "cell_type": "markdown",
      "metadata": {
        "id": "iSJqt_XMg_HJ"
      },
      "source": [
        "№ 4.2.5\n",
        "\n",
        "Дана точка с целыми ненулевыми координатами (x;y). Определить номер четверти координатной плоскости, которой она принадлежит."
      ]
    },
    {
      "cell_type": "code",
      "metadata": {
        "colab": {
          "base_uri": "https://localhost:8080/"
        },
        "id": "bgHNmgI-hAgD",
        "outputId": "c8db684d-8a79-4ab7-80fe-f03f823cf6ad"
      },
      "source": [
        "#Выполнила: Кравцова\n",
        "#Группа: АДЭУ-211\n",
        "x=int(input('Введите координату x:'))\n",
        "y=int(input('Введите координату y:'))\n",
        "\n",
        "if x>0 and y>0:\n",
        "  print('1 четверть')\n",
        "elif x<0 and y>0:\n",
        "  print('2 четверть')\n",
        "elif x<0 and y<0:\n",
        "  print('3 четверть')\n",
        "else :\n",
        "  print('4 четверть')"
      ],
      "execution_count": null,
      "outputs": [
        {
          "output_type": "stream",
          "name": "stdout",
          "text": [
            "Введите координату x:5\n",
            "Введите координату y:-10\n",
            "4 четверть\n"
          ]
        }
      ]
    },
    {
      "cell_type": "markdown",
      "metadata": {
        "id": "N20l8ZpXmBd6"
      },
      "source": [
        "№ 4.2.6\n",
        "\n",
        "Даны вещественные числа a, b, c (a≠0).\n",
        "\n",
        "Решите уравнение ax2+bx+c=0. При выводе значений оставьте 1 знак после запятой."
      ]
    },
    {
      "cell_type": "code",
      "metadata": {
        "colab": {
          "base_uri": "https://localhost:8080/"
        },
        "id": "Ez_oTKQ5mGcN",
        "outputId": "651250da-198a-460d-c816-b56af6a4645d"
      },
      "source": [
        "#Выполнил: Кравцова\n",
        "#Группа: АДЭУ-211\n",
        "from math import sqrt\n",
        "a=int(input('a:'))\n",
        "b=int(input('b:'))\n",
        "c=int(input('c:'))\n",
        "\n",
        "d=b**2-4*a*c\n",
        "if d>0:\n",
        " x1=(-b+sqrt(d))/2*a\n",
        " x2=(-b-sqrt(d))/2*a\n",
        " print('x1:',round(x1,1))\n",
        " print('x2:',round(x2,1))\n",
        "elif d==0:\n",
        "  x=-b/2*a\n",
        "  print('x:',round(x,1))\n",
        "else:\n",
        "  print('Решений нет')\n",
        "\n",
        "\n",
        "\n"
      ],
      "execution_count": null,
      "outputs": [
        {
          "output_type": "stream",
          "name": "stdout",
          "text": [
            "a:1\n",
            "b:3\n",
            "c:-4\n",
            "x1: 1.0\n",
            "x2: -4.0\n"
          ]
        }
      ]
    },
    {
      "cell_type": "markdown",
      "metadata": {
        "id": "khmeELY2wyw6"
      },
      "source": [
        "№ 4.2.7\n",
        "\n",
        "Дана непустая последовательность целых чисел, оканчивающаяся нулем. Найти сумму и количество введенных чисел."
      ]
    },
    {
      "cell_type": "code",
      "metadata": {
        "colab": {
          "base_uri": "https://localhost:8080/",
          "height": 571
        },
        "id": "7VWZCCBW9P56",
        "outputId": "e6814945-225a-43a4-a5f3-bcc883059978"
      },
      "source": [
        "#Выполнила-Кравцова\n",
        "#Группа-АДЭУ-211\n",
        "nums_sum=0\n",
        "nums_count=0\n",
        "vvedite=1\n",
        "\n",
        "x=int(input('Введите 1е число:'))\n",
        "nums_sum=nums_sum+x\n",
        "while x!=0:\n",
        "  vvedite=vvedite+1\n",
        "  x=int(input('Введите {0}-е число:'.format(vvedite)))\n",
        "  nums_count=nums_count+1\n",
        "  nums_sum=nums_sum+x\n",
        "else:\n",
        "  print('Сумма=',nums_sum)\n",
        "  print('Количество',nums_count)\n",
        "\n",
        "  "
      ],
      "execution_count": 3,
      "outputs": [
        {
          "name": "stdout",
          "output_type": "stream",
          "text": [
            "Введите 1е число:10\n",
            "Введите 2-е число:10\n"
          ]
        },
        {
          "output_type": "error",
          "ename": "KeyboardInterrupt",
          "evalue": "ignored",
          "traceback": [
            "\u001b[0;31m---------------------------------------------------------------------------\u001b[0m",
            "\u001b[0;31mKeyboardInterrupt\u001b[0m                         Traceback (most recent call last)",
            "\u001b[0;32m/usr/local/lib/python3.7/dist-packages/ipykernel/kernelbase.py\u001b[0m in \u001b[0;36m_input_request\u001b[0;34m(self, prompt, ident, parent, password)\u001b[0m\n\u001b[1;32m    728\u001b[0m             \u001b[0;32mtry\u001b[0m\u001b[0;34m:\u001b[0m\u001b[0;34m\u001b[0m\u001b[0;34m\u001b[0m\u001b[0m\n\u001b[0;32m--> 729\u001b[0;31m                 \u001b[0mident\u001b[0m\u001b[0;34m,\u001b[0m \u001b[0mreply\u001b[0m \u001b[0;34m=\u001b[0m \u001b[0mself\u001b[0m\u001b[0;34m.\u001b[0m\u001b[0msession\u001b[0m\u001b[0;34m.\u001b[0m\u001b[0mrecv\u001b[0m\u001b[0;34m(\u001b[0m\u001b[0mself\u001b[0m\u001b[0;34m.\u001b[0m\u001b[0mstdin_socket\u001b[0m\u001b[0;34m,\u001b[0m \u001b[0;36m0\u001b[0m\u001b[0;34m)\u001b[0m\u001b[0;34m\u001b[0m\u001b[0;34m\u001b[0m\u001b[0m\n\u001b[0m\u001b[1;32m    730\u001b[0m             \u001b[0;32mexcept\u001b[0m \u001b[0mException\u001b[0m\u001b[0;34m:\u001b[0m\u001b[0;34m\u001b[0m\u001b[0;34m\u001b[0m\u001b[0m\n",
            "\u001b[0;32m/usr/local/lib/python3.7/dist-packages/jupyter_client/session.py\u001b[0m in \u001b[0;36mrecv\u001b[0;34m(self, socket, mode, content, copy)\u001b[0m\n\u001b[1;32m    802\u001b[0m         \u001b[0;32mtry\u001b[0m\u001b[0;34m:\u001b[0m\u001b[0;34m\u001b[0m\u001b[0;34m\u001b[0m\u001b[0m\n\u001b[0;32m--> 803\u001b[0;31m             \u001b[0mmsg_list\u001b[0m \u001b[0;34m=\u001b[0m \u001b[0msocket\u001b[0m\u001b[0;34m.\u001b[0m\u001b[0mrecv_multipart\u001b[0m\u001b[0;34m(\u001b[0m\u001b[0mmode\u001b[0m\u001b[0;34m,\u001b[0m \u001b[0mcopy\u001b[0m\u001b[0;34m=\u001b[0m\u001b[0mcopy\u001b[0m\u001b[0;34m)\u001b[0m\u001b[0;34m\u001b[0m\u001b[0;34m\u001b[0m\u001b[0m\n\u001b[0m\u001b[1;32m    804\u001b[0m         \u001b[0;32mexcept\u001b[0m \u001b[0mzmq\u001b[0m\u001b[0;34m.\u001b[0m\u001b[0mZMQError\u001b[0m \u001b[0;32mas\u001b[0m \u001b[0me\u001b[0m\u001b[0;34m:\u001b[0m\u001b[0;34m\u001b[0m\u001b[0;34m\u001b[0m\u001b[0m\n",
            "\u001b[0;32m/usr/local/lib/python3.7/dist-packages/zmq/sugar/socket.py\u001b[0m in \u001b[0;36mrecv_multipart\u001b[0;34m(self, flags, copy, track)\u001b[0m\n\u001b[1;32m    624\u001b[0m         \"\"\"\n\u001b[0;32m--> 625\u001b[0;31m         \u001b[0mparts\u001b[0m \u001b[0;34m=\u001b[0m \u001b[0;34m[\u001b[0m\u001b[0mself\u001b[0m\u001b[0;34m.\u001b[0m\u001b[0mrecv\u001b[0m\u001b[0;34m(\u001b[0m\u001b[0mflags\u001b[0m\u001b[0;34m,\u001b[0m \u001b[0mcopy\u001b[0m\u001b[0;34m=\u001b[0m\u001b[0mcopy\u001b[0m\u001b[0;34m,\u001b[0m \u001b[0mtrack\u001b[0m\u001b[0;34m=\u001b[0m\u001b[0mtrack\u001b[0m\u001b[0;34m)\u001b[0m\u001b[0;34m]\u001b[0m\u001b[0;34m\u001b[0m\u001b[0;34m\u001b[0m\u001b[0m\n\u001b[0m\u001b[1;32m    626\u001b[0m         \u001b[0;31m# have first part already, only loop while more to receive\u001b[0m\u001b[0;34m\u001b[0m\u001b[0;34m\u001b[0m\u001b[0;34m\u001b[0m\u001b[0m\n",
            "\u001b[0;32mzmq/backend/cython/socket.pyx\u001b[0m in \u001b[0;36mzmq.backend.cython.socket.Socket.recv\u001b[0;34m()\u001b[0m\n",
            "\u001b[0;32mzmq/backend/cython/socket.pyx\u001b[0m in \u001b[0;36mzmq.backend.cython.socket.Socket.recv\u001b[0;34m()\u001b[0m\n",
            "\u001b[0;32mzmq/backend/cython/socket.pyx\u001b[0m in \u001b[0;36mzmq.backend.cython.socket._recv_copy\u001b[0;34m()\u001b[0m\n",
            "\u001b[0;32m/usr/local/lib/python3.7/dist-packages/zmq/backend/cython/checkrc.pxd\u001b[0m in \u001b[0;36mzmq.backend.cython.checkrc._check_rc\u001b[0;34m()\u001b[0m\n",
            "\u001b[0;31mKeyboardInterrupt\u001b[0m: ",
            "\nDuring handling of the above exception, another exception occurred:\n",
            "\u001b[0;31mKeyboardInterrupt\u001b[0m                         Traceback (most recent call last)",
            "\u001b[0;32m<ipython-input-3-458f5f985e60>\u001b[0m in \u001b[0;36m<module>\u001b[0;34m()\u001b[0m\n\u001b[1;32m      9\u001b[0m \u001b[0;32mwhile\u001b[0m \u001b[0mx\u001b[0m\u001b[0;34m!=\u001b[0m\u001b[0;36m0\u001b[0m\u001b[0;34m:\u001b[0m\u001b[0;34m\u001b[0m\u001b[0;34m\u001b[0m\u001b[0m\n\u001b[1;32m     10\u001b[0m   \u001b[0mvvedite\u001b[0m\u001b[0;34m=\u001b[0m\u001b[0mvvedite\u001b[0m\u001b[0;34m+\u001b[0m\u001b[0;36m1\u001b[0m\u001b[0;34m\u001b[0m\u001b[0;34m\u001b[0m\u001b[0m\n\u001b[0;32m---> 11\u001b[0;31m   \u001b[0mx\u001b[0m\u001b[0;34m=\u001b[0m\u001b[0mint\u001b[0m\u001b[0;34m(\u001b[0m\u001b[0minput\u001b[0m\u001b[0;34m(\u001b[0m\u001b[0;34m'Введите {0}-е число:'\u001b[0m\u001b[0;34m.\u001b[0m\u001b[0mformat\u001b[0m\u001b[0;34m(\u001b[0m\u001b[0mvvedite\u001b[0m\u001b[0;34m)\u001b[0m\u001b[0;34m)\u001b[0m\u001b[0;34m)\u001b[0m\u001b[0;34m\u001b[0m\u001b[0;34m\u001b[0m\u001b[0m\n\u001b[0m\u001b[1;32m     12\u001b[0m   \u001b[0mnums_count\u001b[0m\u001b[0;34m=\u001b[0m\u001b[0mnums_count\u001b[0m\u001b[0;34m+\u001b[0m\u001b[0;36m1\u001b[0m\u001b[0;34m\u001b[0m\u001b[0;34m\u001b[0m\u001b[0m\n\u001b[1;32m     13\u001b[0m   \u001b[0mnums_sum\u001b[0m\u001b[0;34m=\u001b[0m\u001b[0mnums_sum\u001b[0m\u001b[0;34m+\u001b[0m\u001b[0mx\u001b[0m\u001b[0;34m\u001b[0m\u001b[0;34m\u001b[0m\u001b[0m\n",
            "\u001b[0;32m/usr/local/lib/python3.7/dist-packages/ipykernel/kernelbase.py\u001b[0m in \u001b[0;36mraw_input\u001b[0;34m(self, prompt)\u001b[0m\n\u001b[1;32m    702\u001b[0m             \u001b[0mself\u001b[0m\u001b[0;34m.\u001b[0m\u001b[0m_parent_ident\u001b[0m\u001b[0;34m,\u001b[0m\u001b[0;34m\u001b[0m\u001b[0;34m\u001b[0m\u001b[0m\n\u001b[1;32m    703\u001b[0m             \u001b[0mself\u001b[0m\u001b[0;34m.\u001b[0m\u001b[0m_parent_header\u001b[0m\u001b[0;34m,\u001b[0m\u001b[0;34m\u001b[0m\u001b[0;34m\u001b[0m\u001b[0m\n\u001b[0;32m--> 704\u001b[0;31m             \u001b[0mpassword\u001b[0m\u001b[0;34m=\u001b[0m\u001b[0;32mFalse\u001b[0m\u001b[0;34m,\u001b[0m\u001b[0;34m\u001b[0m\u001b[0;34m\u001b[0m\u001b[0m\n\u001b[0m\u001b[1;32m    705\u001b[0m         )\n\u001b[1;32m    706\u001b[0m \u001b[0;34m\u001b[0m\u001b[0m\n",
            "\u001b[0;32m/usr/local/lib/python3.7/dist-packages/ipykernel/kernelbase.py\u001b[0m in \u001b[0;36m_input_request\u001b[0;34m(self, prompt, ident, parent, password)\u001b[0m\n\u001b[1;32m    732\u001b[0m             \u001b[0;32mexcept\u001b[0m \u001b[0mKeyboardInterrupt\u001b[0m\u001b[0;34m:\u001b[0m\u001b[0;34m\u001b[0m\u001b[0;34m\u001b[0m\u001b[0m\n\u001b[1;32m    733\u001b[0m                 \u001b[0;31m# re-raise KeyboardInterrupt, to truncate traceback\u001b[0m\u001b[0;34m\u001b[0m\u001b[0;34m\u001b[0m\u001b[0;34m\u001b[0m\u001b[0m\n\u001b[0;32m--> 734\u001b[0;31m                 \u001b[0;32mraise\u001b[0m \u001b[0mKeyboardInterrupt\u001b[0m\u001b[0;34m\u001b[0m\u001b[0;34m\u001b[0m\u001b[0m\n\u001b[0m\u001b[1;32m    735\u001b[0m             \u001b[0;32melse\u001b[0m\u001b[0;34m:\u001b[0m\u001b[0;34m\u001b[0m\u001b[0;34m\u001b[0m\u001b[0m\n\u001b[1;32m    736\u001b[0m                 \u001b[0;32mbreak\u001b[0m\u001b[0;34m\u001b[0m\u001b[0;34m\u001b[0m\u001b[0m\n",
            "\u001b[0;31mKeyboardInterrupt\u001b[0m: "
          ]
        }
      ]
    },
    {
      "cell_type": "markdown",
      "metadata": {
        "id": "Mf6ZzUUhw7ey"
      },
      "source": [
        "№ 4.2.8\n",
        "\n",
        "Дано число . Из чисел ![4 2 8.PNG](data:image/png;base64,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) напечатать те, которые не превышают ."
      ]
    },
    {
      "cell_type": "code",
      "metadata": {
        "colab": {
          "base_uri": "https://localhost:8080/"
        },
        "id": "k31uJTWCxjBc",
        "outputId": "eac2ad6f-4674-453e-85db-a0c998620308"
      },
      "source": [
        "#Выполнила: Кравцова\n",
        "#Группа: АДЭУ-211\n",
        "n=int(input('n='))\n",
        "i=n-n%5\n",
        "x=0\n",
        "while x<i:\n",
        "  print(x)\n",
        "  x+=5\n",
        "else:\n",
        "  print(i)\n",
        " "
      ],
      "execution_count": 4,
      "outputs": [
        {
          "output_type": "stream",
          "name": "stdout",
          "text": [
            "n=-5\n",
            "-5\n"
          ]
        }
      ]
    },
    {
      "cell_type": "markdown",
      "metadata": {
        "id": "lJRn5betiQkW"
      },
      "source": [
        "№ 4.2.9\n",
        "\n",
        "Дано вещественное число a. Найдите наименьшее натуральное , для которого верно\n",
        "![64788.PNG](data:image/png;base64,iVBORw0KGgoAAAANSUhEUgAAAUsAAAA7CAYAAADy4qjrAAAAAXNSR0IArs4c6QAAAARnQU1BAACxjwv8YQUAAAAJcEhZcwAADsMAAA7DAcdvqGQAAAboSURBVHhe7d3fZyNbAAfw+6flaViGMixDiWXr0sjDjUtjCcuwNEtNqT6s9GFr2bh09KFlGUq4Uip9qJSVpVJlWEIZSgjle8+ZJG3azrYnmb3J/Pg+fB52zkkzeyTfnDk/Zv64vb0FJVkbtWUThmHAeJVDLpdD9Tis3mL0DiswTXFuhg5NnFvubR1eSL0sYtskC8MyRVob8QvLO56DAgMhHNsmERiWKcKwTCi2TSIwLFOEYZlQbJtEYFimCMMyodg2icCwTBGGZUKxbRKBYZkiDMuEYtskAsMyRRiWCcW2SQSGZYowLBOKbZMIDMsUYVgmFNsmERiWidfDwXsT5rIx3AUiabr4t4nKYS+k/pyd1YJzMZe04bkJmiHPt4Z2WP0sYdskCsMyil4HB+smtI1WeDkRpQbDcgbtT+LXX+7FNkY9gvVmaL0X+V20L/3wsjj42UHnZ8jxhfDRPe/CDy1bsFi1E/1fGJZRnNjRwlK+ftbXzoG3V8DKP15o2fy1YOeqaA7CyhYrDu3kN2yUd1x0r8PLKTqGZRQMyzliWL7EO3FQ/VOH+b6Olhdeh2bHsIyCYTlHDEtV/oWL7aIIzb9qaF71Q+uo8L87sN6YKFgWCm8qqH2pwf7SRC+kbhYwLKNgWM4Rw3Ja/asmamsm9D+34f6YbmWELz6bRs6AfTwaUz/bhi4/66tOZpc3MSyjYFjOEcNyZl4LzscV6GYF9ROF8+y5KGvic/23g964vc+HYWnudJ7WzwiGZRTKYdlBfVWun3tEzqaP1kQ+VED9R9jfuRe87xTC/sYdv4Hqk3MQ5Pq/V8bT48tVNPyQvzMS9v4vmXx952sh5D3lOlJNfOEfHxeXiV/n9AWO2E5h/29VD85jVpcuKmYO2trBs5fS3a/54D0LEz8A8gchJ9rfPnlaPysYllGwZzlH7FnObNSzNPJW0LPsP9uGPtw1GdAmat/Hx/poWPJYBe4zP5Jpx7CMgmE5R4phOejD74ccH3upXOj7002KxDUsh2OWeRjF4Zjl8yE51oNTlMFo3bf1QLS9vCyX45XiEt1araPz5HXpx7CMgmE5RwphedOAJb/Uole0ezFDuexBfRhuNDA/d0PKw8UtLIez4QbyazU0L6efDR9eho97kT5aG8bd57x3WIK+mc0dawzLGQRP5Vs2756mKMdygrG098+PBT3BsJyCQlgO2qiZcvxQfNHDdtS8VC60d8xgbLTyTX32OC7tNFxnKULSqqMVYcnQ7aCLAysP/W0ZldUCrL0W3K08tCUDZt5GM6ML3xmWi8SwnALHLJ/jH9sob7no9MLLKTqG5SJ5Dewe/YYv2XULu+8KyC/r0DQd+Xfi8us37ODonztwzqLuXffR2bOQN+Rs8XBGe+Wji+7Uoeeh8aUBL4Zh+XvaieKOYZl0N6LHZRZQvxhddl03Yb+WQwPi2NWjugsge125NzZaox6Pf2QNbyWX4cXNlEwMy4Tzv5WDcVN9o4X+6FgQUKMB+cf158uDszoc19W32sNj4xvdijB3uH+ZEoRhmXC+Wwl6atqaez+5NJ6lj8Gdt/0zB/ZmDe7l6NjFLkx5blo8xx+JfoVhmQJ933+wdnDc29RiN3nko7mui3PTUNqPy8TRIvho7xSQNw1oZgXu9w4OPpaDG1aU83I220H3Jux1tEgMy9QZX/oa2D4LK1+ELtxNG1ZRh/a6hPppDB53sUjyphRy3/VlHStBL3tizPm4GvzQleLwSBB6gGGZMt5+IZhxLu2pL6qem4HoWcoFzpqJ6lF2w0Dufbe+9dAbXQGU9u/bon9kBT3vWD50LuMYlmly5aCgGbDcGF/iXrsoy97UL3fRZMV4v/XDia7WhtxBlO092HHFsEwLEZSlJfP+/oM3Hlqn3t0M+UIMPDQ+2bA/Ta6PlIvLZUjkYrVFcP7a2F4S7bBcQ2fcNuM92BU3ns8ayjiGZRr4cq3lRFBKpza0Dwue4JHnEATjxK29Bk1Ug2M67NOJulkzWhUwOQnXb8g1qBqsIx/9f23kP4+WW1EsMCyTTvTenKIG/W0F9qboxY1U5WMFFn2j1oHoPb3OwVxv3N1EtndYHi51Kjqx3I0zL+MVC5MTOa0N+SMiLsGvPdRX4zRBRxLDMuF6+6MF6CFiMaN6LZfFlGAsifA2dWhLeVh77fs7cGdUe0uDZj68KUX/fBcF0T4rxRVYhzGcoMs4hiURkQKGJRGRAoYlEZEChiURkQKGJRGRAoYlEZEChiURkQKGJRGRAoYlEZEChiURkQKGJRGRAoYlEZEChiURkQKGJRGRAoYlEZEChiURkQKGJRGRAoYlEZEChiURkQKGJRGRAoYlEZEChiURkQKGJRHRi27xH6TL27OBnFUUAAAAAElFTkSuQmCC)"
      ]
    },
    {
      "cell_type": "code",
      "metadata": {
        "id": "B1OAkIobk7MT",
        "colab": {
          "base_uri": "https://localhost:8080/"
        },
        "outputId": "efd5d180-1a62-4e4f-fd9a-af294f0c271a"
      },
      "source": [
        "#Выпонила - Кравцова\n",
        "#Группа-АДЭУ-211\n",
        "a=float(input('a='))\n",
        "n=0.00\n",
        "n_sum=0.00\n",
        "\n",
        "while a>n_sum:\n",
        "  n+=1\n",
        "  n_sum += 1/n\n",
        "print(n)\n"
      ],
      "execution_count": null,
      "outputs": [
        {
          "output_type": "stream",
          "name": "stdout",
          "text": [
            "a=1.5\n",
            "2.0\n"
          ]
        }
      ]
    },
    {
      "cell_type": "markdown",
      "metadata": {
        "id": "x8p_zzNb__Nd"
      },
      "source": [
        "№ 4.2.10\n",
        "\n",
        "Дано натуральное число. Определите сумму и количество его цифр.\n",
        "\n",
        "Совет"
      ]
    },
    {
      "cell_type": "code",
      "metadata": {
        "colab": {
          "base_uri": "https://localhost:8080/"
        },
        "id": "nQIzi815Afkj",
        "outputId": "1c0de172-2c9a-4809-f3eb-972a8bf9763c"
      },
      "source": [
        "#Кравцова\n",
        "#АДЭУ-211\n",
        "n=int(input('n='))\n",
        "n_sum=0\n",
        "n_count=0\n",
        "\n",
        "while n>0:\n",
        "  n_count+=1\n",
        "  n_sum+=n%10\n",
        "  n=n//10\n",
        "else:\n",
        "  print('Сумма=', n_sum)\n",
        "  print('Количество=', n_count)\n",
        "\n"
      ],
      "execution_count": null,
      "outputs": [
        {
          "output_type": "stream",
          "name": "stdout",
          "text": [
            "n=15\n",
            "Сумма= 6\n",
            "Количество= 2\n"
          ]
        }
      ]
    },
    {
      "cell_type": "markdown",
      "metadata": {
        "id": "RiLRXEXznfua"
      },
      "source": [
        "№ 4.2.11\n",
        "\n",
        "Вывести в строку 10 первых натуральных чисел, оканчивающихся на цифру k, кратных числу s и находящихся в интервале, левая граница которого равна start ."
      ]
    },
    {
      "cell_type": "code",
      "metadata": {
        "id": "pgctp0b8rhEm",
        "colab": {
          "base_uri": "https://localhost:8080/"
        },
        "outputId": "42ed4be1-df84-4949-c052-b78a68006d09"
      },
      "source": [
        "#Кравцова\n",
        "#АДЭУ-211\n",
        "start=int(input('start='))\n",
        "k=int(input('k='))\n",
        "s=int(input('s='))\n",
        "N=[]\n",
        "n_count=0\n",
        "n=start\n",
        "\n",
        "while n_count<10:\n",
        "  n_count+=1\n",
        "  while (n%10!=k) or (n%s!=0):\n",
        "    n+=1\n",
        "  else:\n",
        "   N.append(n)\n",
        "   n += 1\n",
        "\n",
        "n1 = N[0]\n",
        "n2 = N[1]\n",
        "n3 = N[2]\n",
        "n4 = N[3]\n",
        "n5 = N[4]\n",
        "n6 = N[5]\n",
        "n7 = N[6]\n",
        "n8 = N[7]\n",
        "n9 = N[8]\n",
        "n10 = N[9]\n",
        "print(n1, n2, n3, n4, n5, n6, n7, n8, n9, n10)"
      ],
      "execution_count": null,
      "outputs": [
        {
          "output_type": "stream",
          "name": "stdout",
          "text": [
            "start=100\n",
            "k=7\n",
            "s=9\n",
            "117 207 297 387 477 567 657 747 837 927\n"
          ]
        }
      ]
    },
    {
      "cell_type": "markdown",
      "metadata": {
        "id": "rZ4SleZQp9w4"
      },
      "source": [
        "№ 4.2.12\n",
        "\n",
        "Даны целые числа a и b (a может быть больше b). Напечатайте:\n",
        "\n",
        "числа от минимального до максимального в строчку (разделяя пробелом);\n",
        "\n",
        "числа от максимального до минимального «столбиком»."
      ]
    },
    {
      "cell_type": "code",
      "metadata": {
        "colab": {
          "base_uri": "https://localhost:8080/"
        },
        "id": "DYBCPd8xbvev",
        "outputId": "ab43eb3f-d825-4824-e6f8-fe44a038a28b"
      },
      "source": [
        "#Кравцова\n",
        "#АДЭУ-211\n",
        "a=int(input('a='))\n",
        "b=int(input('b='))\n",
        "if a == b:\n",
        "  print(a)\n",
        "  print(a)\n",
        "elif a > b:\n",
        "  for i in range(a - b + 1):\n",
        "    print(b + i, end=\" \")\n",
        "  print(\" \")\n",
        "  for i in range(a - b + 1):\n",
        "    print(a - i)\n",
        "else:\n",
        "  for i in range(b - a + 1):\n",
        "    print(a + i, end=\" \")\n",
        "  print(\" \")\n",
        "  for i in range(b - a + 1):\n",
        "    print(b - i) "
      ],
      "execution_count": null,
      "outputs": [
        {
          "output_type": "stream",
          "name": "stdout",
          "text": [
            "a=1\n",
            "b=5\n",
            "1 2 3 4 5  \n",
            "5\n",
            "4\n",
            "3\n",
            "2\n",
            "1\n"
          ]
        }
      ]
    },
    {
      "cell_type": "markdown",
      "metadata": {
        "id": "-E44A-ekdIWo"
      },
      "source": [
        "№ 4.2.13\n",
        "\n",
        "Для введенных с клавиатуры положительных целых чисел a и b (a≤b) определите:\n",
        "\n",
        "сумму всех целых чисел от a до b;\n",
        "\n",
        "произведение всех целых чисел от a до b;\n",
        "\n",
        "среднее арифметическое всех целых чисел от a до b;\n",
        "\n",
        "среднее геометрическое нечетных чисел от a до b.\n",
        "\n",
        "Отрезок поиска включает сами числа a и b. При выводе вещественных результатов оставьте два знака после запятой."
      ]
    },
    {
      "cell_type": "code",
      "metadata": {
        "colab": {
          "base_uri": "https://localhost:8080/"
        },
        "id": "07GQz7xvhhIP",
        "outputId": "a1a171dd-8bb4-4c55-f583-214760767084"
      },
      "source": [
        "#Кравцова\n",
        "#АДЭУ-211\n",
        "a=int(input('a='))\n",
        "b=int(input('b='))\n",
        "\n",
        "\n",
        "n_s = a\n",
        "n_sum = 0\n",
        "\n",
        "nn_s = a\n",
        "nn_sum = 0\n",
        "\n",
        "n_m = a\n",
        "n_mult = 1\n",
        "\n",
        "schet = 0\n",
        "n_avg = 1\n",
        "n_avg_geom = 1\n",
        "\n",
        "if a == b:\n",
        "  n_sum = a + b\n",
        "  n_mult = a * b\n",
        "  n_avg = round((a+b)/2, 2)\n",
        "  if a % 2 == 1:\n",
        "    n_avg_geom = round((a*b)**(1/2), 2)\n",
        "  else:\n",
        "    n_avg_geom = \"Среднее геометрическое нечетных чисел посчитать нельзя, так как нечетных чисел нет\"\n",
        "  print(\"Сумма =\", n_sum)\n",
        "  print(\"Произведение =\", n_mult)\n",
        "  print(\"Среднее арифметическое =\", n_avg)\n",
        "  print(\"Среднее геометрическое нечетных чисел =\", n_avg_geom)\n",
        "else:\n",
        "  for i in range(b - a + 1):\n",
        "    n_sum += n_s\n",
        "    n_s += 1\n",
        "    schet += 1\n",
        "  for i in range(b - a + 1):\n",
        "    n_mult *= n_m\n",
        "    n_m += 1   \n",
        "  n_avg = n_sum / schet\n",
        "  c = []\n",
        "  # делаю список \n",
        "  for i in range(b - a + 1):\n",
        "    c.append(nn_s)\n",
        "    nn_sum += nn_s\n",
        "    nn_s += 1\n",
        "  if a % 2 == 1:\n",
        "    c_nechet = c[::2]\n",
        "    pp = 1 \n",
        "    for x in c_nechet:\n",
        "      pp *= x\n",
        "    n_avg_geom = round(pp**(1/len(c_nechet)), 2)\n",
        "  else:\n",
        "    c_nechet = c[1::2]\n",
        "    pp = 1 \n",
        "    for x in c_nechet:\n",
        "      pp *= x\n",
        "    n_avg_geom = round(pp**(1/len(c_nechet)), 2)\n",
        "\n",
        "\n",
        "\n",
        "  print(\"Сумма =\", n_sum)\n",
        "  print(\"Произведение =\", n_mult)\n",
        "  print(\"Среднее арифметическое =\", n_avg)\n",
        "  print(\"Среднее геометрическое нечетных чисел =\", n_avg_geom)"
      ],
      "execution_count": null,
      "outputs": [
        {
          "output_type": "stream",
          "name": "stdout",
          "text": [
            "a=1\n",
            "b=5\n",
            "Сумма = 15\n",
            "Произведение = 120\n",
            "Среднее арифметическое = 3.0\n",
            "Среднее геометрическое нечетных чисел = 2.47\n"
          ]
        }
      ]
    },
    {
      "cell_type": "markdown",
      "metadata": {
        "id": "rLBk40vpjL27"
      },
      "source": [
        "№ 4.2.14\n",
        "\n",
        "Начав тренировки, лыжник в первый день пробежал s км. (s>0, вещественное число). Каждый следующий день он увеличивал пробег на p % (0<p≤100, вещественное число) от пробега предыдущего дня. Определите:\n",
        "\n",
        "пробег лыжника за второй, третий, …, десятый день тренировок;\n",
        "\n",
        "какой суммарный путь он пробежал за первые 10 дней тренировок.\n",
        "\n",
        "При выводе вещественных результатов оставьте один знак после запятой."
      ]
    },
    {
      "cell_type": "code",
      "metadata": {
        "colab": {
          "base_uri": "https://localhost:8080/"
        },
        "id": "uiz-bim9jPLM",
        "outputId": "e031763c-4bbe-4695-a721-839eca5467e0"
      },
      "source": [
        "s = float(input(\"Пробег за 1-й день (км.) = \"))\n",
        "p = float(input(\"На сколько увеличивает пробег (%) = \"))\n",
        "p = 1 + p / 100\n",
        "d = 1\n",
        "sp = s\n",
        "\n",
        "total = s\n",
        "\n",
        "while d < 10:\n",
        "  d += 1\n",
        "  sp *= p\n",
        "  print(\"Пробег за {:.1f}-й день: {:.1f} км.\".format(d, sp))\n",
        "  total += sp\n",
        "print(\"Суммарный пробег: {:.1f} км.\".format(total))\n"
      ],
      "execution_count": 6,
      "outputs": [
        {
          "output_type": "stream",
          "name": "stdout",
          "text": [
            "Пробег за 1-й день (км.) = 5\n",
            "На сколько увеличивает пробег (%) = 10\n",
            "Пробег за 2.0-й день: 5.5 км.\n",
            "Пробег за 3.0-й день: 6.1 км.\n",
            "Пробег за 4.0-й день: 6.7 км.\n",
            "Пробег за 5.0-й день: 7.3 км.\n",
            "Пробег за 6.0-й день: 8.1 км.\n",
            "Пробег за 7.0-й день: 8.9 км.\n",
            "Пробег за 8.0-й день: 9.7 км.\n",
            "Пробег за 9.0-й день: 10.7 км.\n",
            "Пробег за 10.0-й день: 11.8 км.\n",
            "Суммарный пробег: 79.7 км.\n"
          ]
        }
      ]
    },
    {
      "cell_type": "markdown",
      "metadata": {
        "id": "yG6yvrlvjaw8"
      },
      "source": [
        "№ 4.2.15\n",
        "\n",
        "Известна масса каждого предмета в кг., загружаемого в грузовик. Определить, возможна ли перевозка груза, если грузоподъемность грузовика равна p кг."
      ]
    },
    {
      "cell_type": "code",
      "metadata": {
        "colab": {
          "base_uri": "https://localhost:8080/"
        },
        "id": "7l4pSOZ1jd5s",
        "outputId": "2ff5437d-6025-499e-8852-a3f846af0451"
      },
      "source": [
        "p = int(input(\"Грузоподъемность грузовика (кг.) = \"))\n",
        "n = int(input(\"Количество предметов = \"))\n",
        "total = 0\n",
        "por = 0\n",
        "while n != 0:\n",
        "  por += 1\n",
        "  t = int(input(\"Масса {0}-го предмета (кг.) = \".format(por)))\n",
        "  total += t\n",
        "  n -= 1\n",
        "else:\n",
        "  if total <= p:\n",
        "    print(\"Да\")\n",
        "  else:\n",
        "    print(\"Нет\")\n"
      ],
      "execution_count": 8,
      "outputs": [
        {
          "output_type": "stream",
          "name": "stdout",
          "text": [
            "Грузоподъемность грузовика (кг.) = 15\n",
            "Количество предметов = 3\n",
            "Масса 1-го предмета (кг.) = 1\n",
            "Масса 2-го предмета (кг.) = 56\n",
            "Масса 3-го предмета (кг.) = 63\n",
            "Нет\n"
          ]
        }
      ]
    },
    {
      "cell_type": "markdown",
      "metadata": {
        "id": "dVFkQb1Qjmj5"
      },
      "source": [
        "№ 4.2.16\n",
        "\n",
        "В области несколько районов. Заданы площади, засеваемые пшеницей (га.), и средняя урожайность (ц/га) в каждом районе.\n",
        "\n",
        "Определите количество пшеницы, собранное по области. При выводе вещественных результатов оставьте один знак после запятой."
      ]
    },
    {
      "cell_type": "code",
      "metadata": {
        "id": "qAD-2XbNjpva",
        "colab": {
          "base_uri": "https://localhost:8080/"
        },
        "outputId": "90e0405a-441c-4c13-b965-fcb7537e4f5a"
      },
      "source": [
        "n = int(input(\"Количество районов = \"))\n",
        "\n",
        "total = 0\n",
        "nomer = 0\n",
        "\n",
        "while n != 0:\n",
        "  n -= 1\n",
        "  nomer += 1\n",
        "  S = float(input(\"Площадь {0}-го района (га) = \".format(nomer)))\n",
        "  A = float(input(\"Урожайность в {0}-м районе (ц/га.) = \".format(nomer)))\n",
        "  total += A * S\n",
        "else:\n",
        "  total = round(total, 1)\n",
        "  print(\"Собрано пшеницы: {0} ц.\".format(total))\n"
      ],
      "execution_count": 10,
      "outputs": [
        {
          "output_type": "stream",
          "name": "stdout",
          "text": [
            "Количество районов = 1\n",
            "Площадь 1-го района (га) = 15\n",
            "Урожайность в 1-м районе (ц/га.) = 2\n",
            "Собрано пшеницы: 30.0 ц.\n"
          ]
        }
      ]
    },
    {
      "cell_type": "markdown",
      "metadata": {
        "id": "h-oKIRrYjsjW"
      },
      "source": [
        "№ 4.2.17\n",
        "\n",
        "Решите задачу № 4.2.7, организовав бесконечный цикл, который бы прерывался при выполнении условия, используя оператор break."
      ]
    },
    {
      "cell_type": "code",
      "metadata": {
        "id": "VXA_TQzejvzN",
        "colab": {
          "base_uri": "https://localhost:8080/"
        },
        "outputId": "5a665f27-4264-4b7f-cee2-3b047dc721e4"
      },
      "source": [
        "#Кравцова\n",
        "#АДЭУ-211\n",
        "nums_sum = 0  # сумма\n",
        "nums_count = 1  # количество\n",
        "\n",
        "x = int(input(\"Введите 1-е число: \"))\n",
        "\n",
        "while x != 0:\n",
        "  nums_sum += x\n",
        "  nums_count += 1\n",
        "  x = int(input(\"Введите {0}-е число: \".format(nums_count)))\n",
        "  if x == 0:\n",
        "      break\n",
        "nums_count += -1\n",
        "print(\"Сумма = {0}\".format(nums_sum))\n",
        "print(\"Колличество = {0}\".format(nums_count))"
      ],
      "execution_count": 12,
      "outputs": [
        {
          "output_type": "stream",
          "name": "stdout",
          "text": [
            "Введите 1-е число: 1\n",
            "Введите 2-е число: 0\n",
            "Сумма = 1\n",
            "Колличество = 1\n"
          ]
        }
      ]
    },
    {
      "cell_type": "markdown",
      "metadata": {
        "id": "3ceS2Sk6jzaM"
      },
      "source": [
        "№ 4.2.18\n",
        "\n",
        "Предложение, введенное с клавиатуры, содержит слова из гласных и согласных букв кириллицы (регистр может быть различный), а также пробелы.\n",
        "\n",
        "Определите количество гласных и согласных букв в предложении. Для пропуска пробелов используйте оператор continue."
      ]
    },
    {
      "cell_type": "code",
      "metadata": {
        "id": "fX-M8U8Tj3Ef",
        "colab": {
          "base_uri": "https://localhost:8080/"
        },
        "outputId": "acd8cfd7-2782-47e6-e592-109124007c04"
      },
      "source": [
        "#Кравцова\n",
        "#АДЭУ-211\n",
        "sentence = str(input(\"Введите предложение: \"))\n",
        "sentence = sentence.lower()\n",
        "\n",
        "VSE_SOGL = \"бвгджзклмнпрстфхцчшщ\"\n",
        "VSE_GL = \"аеёиоуэюя\"\n",
        "\n",
        "count_gl = sum(1 for i in sentence if i in VSE_GL)  # Кол-во гласных\n",
        "count_sogl = sum(1 for i in sentence if i in VSE_SOGL) # Кол-во согласных\n",
        "\n",
        "print(\"Кол-во букв в предложении: гласных - {0}, согласных - {1}\".format(count_gl, count_sogl))\n"
      ],
      "execution_count": 15,
      "outputs": [
        {
          "output_type": "stream",
          "name": "stdout",
          "text": [
            "Введите предложение: программирование\n",
            "Кол-во букв в предложении: гласных - 7, согласных - 9\n"
          ]
        }
      ]
    },
    {
      "cell_type": "markdown",
      "metadata": {
        "id": "WeoWj-12j59W"
      },
      "source": [
        "№ 4.2.19\n",
        "\n",
        "Выведите на экран (в строку) все целые числа от a до b, кратные некоторому числу c."
      ]
    },
    {
      "cell_type": "code",
      "metadata": {
        "id": "pV8NoA9YkC7R",
        "colab": {
          "base_uri": "https://localhost:8080/"
        },
        "outputId": "7a3b226a-a60f-4971-d605-4df27daf6728"
      },
      "source": [
        "#Кравцова\n",
        "#АДЭУ-211\n",
        "a = int(input(\"a = \"))\n",
        "b = int(input(\"b = \"))\n",
        "c = int(input(\"c = \"))\n",
        "\n",
        "# 1) если а кратно с то пишем его и прибавляем по с пока не дойдем до б \n",
        "\n",
        "# 2) если нет то прибавляем по единичке пока не будет кратно с а затем по алгоритму (1)\n",
        "while a // c == 0:\n",
        "  a += 1\n",
        "else:\n",
        "  print(a, end=\" \")\n",
        "  while a <= (b - c):\n",
        "    a += c\n",
        "    print(a, end=\" \")\n"
      ],
      "execution_count": 18,
      "outputs": [
        {
          "output_type": "stream",
          "name": "stdout",
          "text": [
            "a = 1\n",
            "b = 5\n",
            "c = 2\n",
            "2 4 "
          ]
        }
      ]
    },
    {
      "cell_type": "markdown",
      "metadata": {
        "id": "hEh5fXkVkMXi"
      },
      "source": [
        "№ 4.2.21\n",
        "\n",
        "Известно количество учеников в классе и их рост (см.); рост мальчиков условно задан отрицательными числами. Определите средний рост мальчиков и средний рост девочек.\n",
        "\n",
        "При выводе вещественных результатов оставьте один знак после запятой."
      ]
    },
    {
      "cell_type": "code",
      "metadata": {
        "id": "AykmYX2vkNkM",
        "colab": {
          "base_uri": "https://localhost:8080/"
        },
        "outputId": "53085b31-20f1-4ab0-9938-8f6e94e25946"
      },
      "source": [
        "n = int(input(\"n = \"))\n",
        "shet = 0\n",
        "k = 0\n",
        "m = 0\n",
        "d = 0\n",
        "\n",
        "r_sr_m = 0.0\n",
        "r_sr_d = 0.0\n",
        "\n",
        "while n != 0:\n",
        "  n -= 1\n",
        "  shet += 1\n",
        "  k = int(input(\"Рост {}-го ученика = \".format(shet)))\n",
        "  if k < 0:\n",
        "    r_sr_m -= k\n",
        "    m += 1\n",
        "  else:\n",
        "    r_sr_d += k\n",
        "    d += 1\n",
        "else:\n",
        "  print(\"Средний рост мальчиков: {:.1f}\".format(r_sr_m / m))\n",
        "  print(\"Средний рост девочек: {:.1f}\".format(r_sr_d / d))\n"
      ],
      "execution_count": 20,
      "outputs": [
        {
          "output_type": "stream",
          "name": "stdout",
          "text": [
            "n = 5\n",
            "Рост 1-го ученика = 150\n",
            "Рост 2-го ученика = -150\n",
            "Рост 3-го ученика = 160\n",
            "Рост 4-го ученика = 170\n",
            "Рост 5-го ученика = 180\n",
            "Средний рост мальчиков: 150.0\n",
            "Средний рост девочек: 165.0\n"
          ]
        }
      ]
    }
  ]
}