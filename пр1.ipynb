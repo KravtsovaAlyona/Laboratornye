{
  "nbformat": 4,
  "nbformat_minor": 0,
  "metadata": {
    "colab": {
      "name": "пр1",
      "provenance": [],
      "collapsed_sections": [],
      "authorship_tag": "ABX9TyPLH84oC9fJpurxc5glbZmy",
      "include_colab_link": true
    },
    "kernelspec": {
      "name": "python3",
      "display_name": "Python 3"
    },
    "language_info": {
      "name": "python"
    }
  },
  "cells": [
    {
      "cell_type": "markdown",
      "metadata": {
        "id": "view-in-github",
        "colab_type": "text"
      },
      "source": [
        "<a href=\"https://colab.research.google.com/github/KravtsovaAlyona/Laboratornye/blob/main/%D0%BF%D1%801.ipynb\" target=\"_parent\"><img src=\"https://colab.research.google.com/assets/colab-badge.svg\" alt=\"Open In Colab\"/></a>"
      ]
    },
    {
      "cell_type": "code",
      "metadata": {
        "colab": {
          "base_uri": "https://localhost:8080/"
        },
        "id": "p6eG-h2pByW9",
        "outputId": "ccc835dd-9fa4-4679-9d30-8ae20e6a11a1"
      },
      "source": [
        "#Задание 1\n",
        "class First:\n",
        "  color=\"red\"\n",
        "  def out(self):\n",
        "    print(self.color + \"!\")\n",
        "obj1= First( )\n",
        "obj2= First( )\n",
        "print(obj1.color)\n",
        "print(obj2.color)\n",
        "obj1.out()\n",
        "obj2.out()"
      ],
      "execution_count": 1,
      "outputs": [
        {
          "output_type": "stream",
          "name": "stdout",
          "text": [
            "red\n",
            "red\n",
            "red!\n",
            "red!\n"
          ]
        }
      ]
    },
    {
      "cell_type": "code",
      "metadata": {
        "colab": {
          "base_uri": "https://localhost:8080/"
        },
        "id": "k8JRGZM2B7Pk",
        "outputId": "3101eb78-ec63-490c-d3aa-e587f1fcba7f"
      },
      "source": [
        "#Задание 2\n",
        "class Second:\n",
        "  color=\"red\"\n",
        "  form=\"circle\"\n",
        "  size=10\n",
        "\n",
        "  def changecolor (self, newcolor):\n",
        "    self.color = newcolor\n",
        "  def changeform (self, newform):\n",
        "    self.form = newform\n",
        "  def changesize (self, newsize):\n",
        "    self.size = newsize\n",
        "obj1 = Second()\n",
        "obj2 = Second()\n",
        "obj3 = Second()\n",
        "print(obj1.color, obj1.form, obj1.size)\n",
        "print(obj2.color, obj2.form, obj2.size)\n",
        "print(obj3.color, obj3.form, obj3.size)\n",
        "obj1.changecolor=\"green\"\n",
        "obj2.changecolor=\"blue\"\n",
        "obj2.changeform= \"oval\"\n",
        "obj3.changecolor=\"pink\"\n",
        "obj3.changeform=\"square\"\n",
        "obj3.changesize= 15\n",
        "print(obj1.changecolor, obj1.form, obj1.size)\n",
        "print(obj2.changecolor, obj2.changeform, obj2.size)\n",
        "print(obj3.changecolor, obj3.changeform, obj3.changesize)"
      ],
      "execution_count": 2,
      "outputs": [
        {
          "output_type": "stream",
          "name": "stdout",
          "text": [
            "red circle 10\n",
            "red circle 10\n",
            "red circle 10\n",
            "green circle 10\n",
            "blue oval 10\n",
            "pink square 15\n"
          ]
        }
      ]
    },
    {
      "cell_type": "code",
      "metadata": {
        "colab": {
          "base_uri": "https://localhost:8080/"
        },
        "id": "vUxNyY8vCDC1",
        "outputId": "279aba01-1e2e-46d2-de5e-54172e7bb1d8"
      },
      "source": [
        "#Задание 3\n",
        "class YesInit:\n",
        "  def __init__(self,one,two):\n",
        "    self.fname=one\n",
        "    self.sname=two\n",
        "obj1= YesInit(\"Peter\", \"Ok\")\n",
        "print(obj1.fname, obj1.sname)\n",
        "class NoInit:\n",
        "  def names(self,one,two):\n",
        "    self.fname=one\n",
        "    self.sname=two\n",
        "obj1=NoInit()\n",
        "obj1.names(\"Peter\",\"Ok\")\n",
        "print(obj1.fname, obj1.sname)"
      ],
      "execution_count": 3,
      "outputs": [
        {
          "output_type": "stream",
          "name": "stdout",
          "text": [
            "Peter Ok\n",
            "Peter Ok\n"
          ]
        }
      ]
    },
    {
      "cell_type": "code",
      "metadata": {
        "colab": {
          "base_uri": "https://localhost:8080/"
        },
        "id": "3YRQ663iCRTc",
        "outputId": "6dbed7c5-4649-41c0-e444-cfe0f4639249"
      },
      "source": [
        "#Задание 4\n",
        "class YesInit:\n",
        "  def __init__(self,one=\"noname\",two=\"nonametoo\"):\n",
        "    self.fname=one\n",
        "    self.sname=two\n",
        "obj1=YesInit(\"Sacha\",\"Tu\")\n",
        "obj2=YesInit()\n",
        "obj3=YesInit(\"Spartak\")\n",
        "obj4=YesInit(two=\"Harry\")\n",
        "print(obj1.fname, obj1.sname)\n",
        "print(obj2.fname, obj2.sname)\n",
        "print(obj3.fname, obj3.sname)\n",
        "print(obj4.fname, obj4.sname)"
      ],
      "execution_count": 4,
      "outputs": [
        {
          "output_type": "stream",
          "name": "stdout",
          "text": [
            "Sacha Tu\n",
            "noname nonametoo\n",
            "Spartak nonametoo\n",
            "noname Harry\n"
          ]
        }
      ]
    },
    {
      "cell_type": "code",
      "metadata": {
        "colab": {
          "base_uri": "https://localhost:8080/"
        },
        "id": "lvw5PRrbCZIA",
        "outputId": "918e823f-bbf4-44c9-f551-41df81fec294"
      },
      "source": [
        "#Задание 5\n",
        "class fruits:\n",
        "  def __init__(self,w,n=0):\n",
        "    self.what=w\n",
        "    self.numbers=n\n",
        "\n",
        "f1=fruits(\"apple\",150)\n",
        "f2=fruits(\"pineapple\")\n",
        "\n",
        "print(f1.what, f1.numbers)\n",
        "print(f2.what, f2.numbers)\n",
        "\n",
        "class banan(fruits):\n",
        "  def __init__(self,w,c,n):\n",
        "     super(). __init__(w)\n",
        "     self.color = c\n",
        "     self.numbers=n\n",
        "    \n",
        "f3=banan(\"banan\",\"white\", 150)  \n",
        "print(f3.color, f3.numbers)"
      ],
      "execution_count": 5,
      "outputs": [
        {
          "output_type": "stream",
          "name": "stdout",
          "text": [
            "apple 150\n",
            "pineapple 0\n",
            "white 150\n"
          ]
        }
      ]
    },
    {
      "cell_type": "code",
      "metadata": {
        "colab": {
          "base_uri": "https://localhost:8080/"
        },
        "id": "hWhFo2_NDLHT",
        "outputId": "fb263700-f072-4f3e-ba39-242191619248"
      },
      "source": [
        "#Задание 6\n",
        "class Building:\n",
        "  def __init__(self, w,c,n=0):\n",
        "    self.what=w\n",
        "    self.color=c\n",
        "    self.numbers=n\n",
        "    self.mwhere(n)\n",
        " \n",
        "  def mwhere(self,n):\n",
        "   if n<=0:\n",
        "     self.where=\"отсутствуют\"\n",
        "   elif 0<n<100:\n",
        "     self.where=\"малый склад\"\n",
        "   else:\n",
        "     self.where=\"основной склад\"\n",
        "  def plus(self,p):\n",
        "   self.numbers=self.numbers+p\n",
        "   self.mwhere(self.numbers)\n",
        "  def minus(self,m):\n",
        "   self.numbers=self.numbers-m\n",
        "   self.mwhere(self.numbers)\n",
        "m1=Building(\"Доски\",\"белые\",50)\n",
        "m2=Building(\"Доски\",\"коричневые\",300)\n",
        "m3=Building(\"кирпичи\",\"белые\")\n",
        "print(m1.what,m1.color,m1.where)\n",
        "print(m2.what,m2.color,m2.where)\n",
        "print(m3.what,m3.color,m3.where)\n",
        "m1.plus(500)\n",
        "print(m1.numbers,m1.where)"
      ],
      "execution_count": 6,
      "outputs": [
        {
          "output_type": "stream",
          "name": "stdout",
          "text": [
            "Доски белые малый склад\n",
            "Доски коричневые основной склад\n",
            "кирпичи белые отсутствуют\n",
            "550 основной склад\n"
          ]
        }
      ]
    },
    {
      "cell_type": "code",
      "metadata": {
        "colab": {
          "base_uri": "https://localhost:8080/"
        },
        "id": "F1mGEfMNDR2r",
        "outputId": "64b72ce5-9793-4333-e800-3c321f903453"
      },
      "source": [
        "#Задание 7\n",
        "class Things:\n",
        "  def __init__(self,n,t):\n",
        "    self.namething=n\n",
        "    self.total=t\n",
        "th1=Things(\"table\",5)\n",
        "th2=Things(\"computer\",7)\n",
        "\n",
        "print(th1.namething,th1.total)\n",
        "print(th2.namething,th2.total)\n",
        "\n",
        "th1.color=\"green\"\n",
        "th2.color=\"blue\"\n",
        "\n",
        "print(th1.color)\n",
        "print(th2.color)"
      ],
      "execution_count": 7,
      "outputs": [
        {
          "output_type": "stream",
          "name": "stdout",
          "text": [
            "table 5\n",
            "computer 7\n",
            "green\n",
            "blue\n"
          ]
        }
      ]
    },
    {
      "cell_type": "code",
      "metadata": {
        "colab": {
          "base_uri": "https://localhost:8080/",
          "height": 292
        },
        "id": "vRa5JQA6Dk8l",
        "outputId": "6e90bfac-22a8-4343-e468-0e446dc6024d"
      },
      "source": [
        "# Задание 8\n",
        "class Table:\n",
        "  def __init__ (self,l,w,h):\n",
        "    self.long=l\n",
        "    self.widght=w\n",
        "    self.height=h\n",
        "  def outing(self):\n",
        "    print(self.long, self.widght, self.height)\n",
        "class Kitchen (Table):\n",
        "  def howplaces(self,n):\n",
        "    if n<2:\n",
        "      print(\"It is not kitchen table\")\n",
        "    else:\n",
        "      self.places=n\n",
        "  def outplaces(self):\n",
        "    print(self.places)\n",
        "class Worker(Table):\n",
        "  def __init__(self,t,p):\n",
        "    self.time=t\n",
        "    self.payment=p\n",
        "  def outing(self):\n",
        "    print(self.time, self.payment)\n",
        "  def work(self,t):\n",
        "    if t>10:\n",
        "      wor1=Worker(13,230)\n",
        "      print(wor1.time,wor1.payment)\n",
        "    else:\n",
        "      print(none)\n",
        "  def payment(self,p):\n",
        "     if p>200:\n",
        "       print(\"Hight price\")\n",
        "     else:\n",
        "       print(\"Normal price\")\n",
        "wor1= Worker(8,120)\n",
        "wor2= Worker(13,230)\n",
        "wor1.outing()\n",
        "wor2.outing()\n",
        "t_room1= Kitchen(2,1,0.5)\n",
        "t_room1.outing()\n",
        "t_room1.howplaces(5)\n",
        "t_room1.outplaces()\n",
        "\n",
        "t_2=Table(1,3,0.7)\n",
        "t_2.outing()\n",
        "t_2.howplaces(8)#ошибка"
      ],
      "execution_count": 8,
      "outputs": [
        {
          "output_type": "stream",
          "name": "stdout",
          "text": [
            "8 120\n",
            "13 230\n",
            "2 1 0.5\n",
            "5\n",
            "1 3 0.7\n"
          ]
        },
        {
          "output_type": "error",
          "ename": "AttributeError",
          "evalue": "ignored",
          "traceback": [
            "\u001b[0;31m---------------------------------------------------------------------------\u001b[0m",
            "\u001b[0;31mAttributeError\u001b[0m                            Traceback (most recent call last)",
            "\u001b[0;32m<ipython-input-8-96cbff372568>\u001b[0m in \u001b[0;36m<module>\u001b[0;34m()\u001b[0m\n\u001b[1;32m     43\u001b[0m \u001b[0mt_2\u001b[0m\u001b[0;34m=\u001b[0m\u001b[0mTable\u001b[0m\u001b[0;34m(\u001b[0m\u001b[0;36m1\u001b[0m\u001b[0;34m,\u001b[0m\u001b[0;36m3\u001b[0m\u001b[0;34m,\u001b[0m\u001b[0;36m0.7\u001b[0m\u001b[0;34m)\u001b[0m\u001b[0;34m\u001b[0m\u001b[0;34m\u001b[0m\u001b[0m\n\u001b[1;32m     44\u001b[0m \u001b[0mt_2\u001b[0m\u001b[0;34m.\u001b[0m\u001b[0mouting\u001b[0m\u001b[0;34m(\u001b[0m\u001b[0;34m)\u001b[0m\u001b[0;34m\u001b[0m\u001b[0;34m\u001b[0m\u001b[0m\n\u001b[0;32m---> 45\u001b[0;31m \u001b[0mt_2\u001b[0m\u001b[0;34m.\u001b[0m\u001b[0mhowplaces\u001b[0m\u001b[0;34m(\u001b[0m\u001b[0;36m8\u001b[0m\u001b[0;34m)\u001b[0m\u001b[0;31m#ошибка\u001b[0m\u001b[0;34m\u001b[0m\u001b[0;34m\u001b[0m\u001b[0m\n\u001b[0m",
            "\u001b[0;31mAttributeError\u001b[0m: 'Table' object has no attribute 'howplaces'"
          ]
        }
      ]
    }
  ]
}