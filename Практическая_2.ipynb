{
  "nbformat": 4,
  "nbformat_minor": 0,
  "metadata": {
    "colab": {
      "name": "Практическая 2 ",
      "provenance": [],
      "collapsed_sections": [],
      "authorship_tag": "ABX9TyNdSY69iZ6aSOzZdVFcWaX4",
      "include_colab_link": true
    },
    "kernelspec": {
      "name": "python3",
      "display_name": "Python 3"
    },
    "language_info": {
      "name": "python"
    }
  },
  "cells": [
    {
      "cell_type": "markdown",
      "metadata": {
        "id": "view-in-github",
        "colab_type": "text"
      },
      "source": [
        "<a href=\"https://colab.research.google.com/github/KravtsovaAlyona/Laboratornye/blob/main/%D0%9F%D1%80%D0%B0%D0%BA%D1%82%D0%B8%D1%87%D0%B5%D1%81%D0%BA%D0%B0%D1%8F_2.ipynb\" target=\"_parent\"><img src=\"https://colab.research.google.com/assets/colab-badge.svg\" alt=\"Open In Colab\"/></a>"
      ]
    },
    {
      "cell_type": "code",
      "metadata": {
        "colab": {
          "base_uri": "https://localhost:8080/",
          "height": 142
        },
        "id": "E1_CXuQJnNLE",
        "outputId": "cc566a80-e039-4091-bf57-c223ea7a9aa9"
      },
      "source": [
        "class Person:\n",
        "  def __init__(self,n,s,q=1):\n",
        "    self.name=n\n",
        "    self.surname=s\n",
        "    self.skill=q\n",
        "  def __del__(self):\n",
        "    print('До свидания мистер',self.name,self.surname)\n",
        "  def info(self):\n",
        "    return \"{0} {1},{2}\".format(self.name,self.surname,self.skill)\n",
        "worker=Person('И','Котов',3)\n",
        "helper=Person('Д','Мышев',1)\n",
        "maker=Person('О','Рисов',2)\n",
        "print(worker.info())\n",
        "print(helper.info())\n",
        "print(maker.info())\n",
        "del helper\n",
        "print(\"Конец программы\")\n",
        "input()"
      ],
      "execution_count": 1,
      "outputs": [
        {
          "name": "stdout",
          "output_type": "stream",
          "text": [
            "И Котов,3\n",
            "Д Мышев,1\n",
            "О Рисов,2\n",
            "До свидания мистер Д Мышев\n",
            "Конец программы\n",
            "\n"
          ]
        },
        {
          "output_type": "execute_result",
          "data": {
            "application/vnd.google.colaboratory.intrinsic+json": {
              "type": "string"
            },
            "text/plain": [
              "''"
            ]
          },
          "metadata": {},
          "execution_count": 1
        }
      ]
    },
    {
      "cell_type": "code",
      "metadata": {
        "colab": {
          "base_uri": "https://localhost:8080/"
        },
        "id": "7pl1EDLCjoN3",
        "outputId": "2f8fb0b5-c1a9-47af-8908-918baa1a6eba"
      },
      "source": [
        "\n",
        "class Student:\n",
        "  def __init__(self,surname,birth,gender,number,gmail,university,institut,speciality,mark,group=\"ADEY\"):\n",
        "    self.surname=surname\n",
        "    self.birth=birth\n",
        "    self.gender=gender\n",
        "    self.number=number\n",
        "    self.gmail=gmail\n",
        "    self.university=university\n",
        "    self.institut=institut\n",
        "    self.speciality=speciality\n",
        "    self.mark=mark\n",
        "    self.group=group\n",
        "  def __del__(self):\n",
        "    print('Отчислен студент -',self.surname,self.mark)\n",
        "  def info(self):\n",
        "    return \"{0}  - {1},{2},{3},{4},{5},{6},{7},{8},{9}\".format(self.surname,self.birth,self.gender,self.number,self.gmail,self.university,self.institut,self.speciality,self.mark,self.group)\n",
        "\n",
        "st1=Student('Козлов','5/10/2002','M','89473864854','kozel@gmail.com','MГПУ','ИЦO','Аналитик',5)\n",
        "st2=Student('Миронов','7/11/2003','М','89473735509854','mar2003@gmail.com','MГПУ','ИЦO','Аналитик',3)\n",
        "st3=Student('Алешин','31/8/2001','М','89476509854','alesh1421@gmail.com','MГПУ','ИЦO','Аналитик',1)\n",
        "print(st1.info())\n",
        "print(st2.info())\n",
        "print(st3.info())\n",
        "del st3\n",
        "if st1.mark<st2.mark:\n",
        "  print(\"Пока, первый студент\")\n",
        "  del st1\n",
        "elif st1.mark>st2.mark:\n",
        "  print(\"Пока, второй студент\")\n",
        "  del st2\n",
        "else:\n",
        "  print('молодцы!')\n"
      ],
      "execution_count": 2,
      "outputs": [
        {
          "output_type": "stream",
          "name": "stdout",
          "text": [
            "Козлов  - 5/10/2002,M,89473864854,kozel@gmail.com,MГПУ,ИЦO,Аналитик,5,ADEY\n",
            "Миронов  - 7/11/2003,М,89473735509854,mar2003@gmail.com,MГПУ,ИЦO,Аналитик,3,ADEY\n",
            "Алешин  - 31/8/2001,М,89476509854,alesh1421@gmail.com,MГПУ,ИЦO,Аналитик,1,ADEY\n",
            "Отчислен студент - Алешин 1\n",
            "Пока, второй студент\n",
            "Отчислен студент - Миронов 3\n"
          ]
        }
      ]
    }
  ]
}