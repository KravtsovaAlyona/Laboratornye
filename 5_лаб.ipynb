{
  "nbformat": 4,
  "nbformat_minor": 0,
  "metadata": {
    "colab": {
      "name": "5 лаб",
      "provenance": [],
      "collapsed_sections": [],
      "authorship_tag": "ABX9TyP9AHil+Kjy0sq0wK6w0MIZ",
      "include_colab_link": true
    },
    "kernelspec": {
      "name": "python3",
      "display_name": "Python 3"
    },
    "language_info": {
      "name": "python"
    }
  },
  "cells": [
    {
      "cell_type": "markdown",
      "metadata": {
        "id": "view-in-github",
        "colab_type": "text"
      },
      "source": [
        "<a href=\"https://colab.research.google.com/github/KravtsovaAlyona/Laboratornye/blob/main/5_%D0%BB%D0%B0%D0%B1.ipynb\" target=\"_parent\"><img src=\"https://colab.research.google.com/assets/colab-badge.svg\" alt=\"Open In Colab\"/></a>"
      ]
    },
    {
      "cell_type": "markdown",
      "metadata": {
        "id": "LwvpPUCkj6u2"
      },
      "source": [
        "![image.png](data:image/png;base64,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)"
      ]
    },
    {
      "cell_type": "code",
      "metadata": {
        "colab": {
          "base_uri": "https://localhost:8080/"
        },
        "id": "fnxE_KRKjuZa",
        "outputId": "6bdbafb5-6aaf-4cfb-c104-391fa8f2fa49"
      },
      "source": [
        "# Задание task_05_02_01.\n",
        "# Выполнил:Кравцова \n",
        "# Группа: АДЭУ-211\n",
        "import math\n",
        "def sgn(x):\n",
        "  global a\n",
        "  if x>0:\n",
        "    a=1\n",
        "  elif x==0:\n",
        "    a=0\n",
        "  else:\n",
        "    a=-1\n",
        "  return a\n",
        "  \n",
        "\n",
        "def metod(x,y):\n",
        "  x1=sgn(x)\n",
        "  y1=sgn(y)\n",
        "  function1 = (x1 + y**2)/(y1 + math.sqrt(math.fabs(x)))\n",
        "  print(round(function1,2))\n",
        "\n",
        "x=float(input('Введите х:'))\n",
        "y=float(input('Введите y:'))\n",
        "print(\"Ответ: \")\n",
        "z=metod(x,y)"
      ],
      "execution_count": null,
      "outputs": [
        {
          "output_type": "stream",
          "name": "stdout",
          "text": [
            "Введите х:-9\n",
            "Введите y:0\n",
            "Ответ: \n",
            "-0.33\n"
          ]
        }
      ]
    },
    {
      "cell_type": "markdown",
      "metadata": {
        "id": "YC_jT-clqrbU"
      },
      "source": [
        "№ 5.2.2\n",
        "\n",
        "Дан список температурных изменений в течение дня (целые числа). Известно, что измеряющее устройство иногда сбоит и записывает отсутствие температуры (значение None).Выведите среднюю температуру за наблюдаемый промежуток времени, предварительно очистив список от неопределенных значений. Гарантируется, что хотя бы одно определенное значение в списке есть."
      ]
    },
    {
      "cell_type": "code",
      "metadata": {
        "colab": {
          "base_uri": "https://localhost:8080/"
        },
        "id": "MjfOGG3LrQff",
        "outputId": "560e6ed1-0d4b-45af-9772-b932ec8eeed0"
      },
      "source": [
        "# Задание task_05_02_02.\n",
        "# Выполнил:Кравцова \n",
        "# Группа: АДЭУ-211\n",
        "import math\n",
        "temperature=[]\n",
        "sorted_temperature=[]\n",
        "n = int(input(\"Кол-во изменений: \"))\n",
        "x=1\n",
        "while x<=n:\n",
        "   print(\"Измерение\",x,'-е: ');\n",
        "   y=input()\n",
        "   x=x+1\n",
        "   temperature.append(y)\n",
        "for y in temperature:\n",
        "       if y!= \"-\" :\n",
        "         sorted_temperature.append(y)\n",
        "       else:\n",
        "         pass\n",
        "       k=0\n",
        "       for y in sorted_temperature:\n",
        "          y=int(y)\n",
        "          k+=y\n",
        "\n",
        "print(round(k/len(sorted_temperature),2))\n",
        "\n",
        "\n",
        "# Пример вывода:\n",
        "#\n",
        "# Кол-во измерений: 3\n",
        "# Измерение 1-е: 10\n",
        "# Измерение 2-е: -\n",
        "# Измерение 3-е: 20\n",
        "# Средняя температура: 15.00\n",
        "\n"
      ],
      "execution_count": 8,
      "outputs": [
        {
          "output_type": "stream",
          "name": "stdout",
          "text": [
            "Кол-во изменений: 3\n",
            "Измерение 1 -е: \n",
            "10\n",
            "Измерение 2 -е: \n",
            "-\n",
            "Измерение 3 -е: \n",
            "20\n",
            "15.0\n"
          ]
        }
      ]
    },
    {
      "cell_type": "markdown",
      "source": [
        "№ 5.2.3\n",
        "\n",
        "Выведите все счастливые номера билетов в диапазоне от a до b (положительные целые числа, a < b), если известно, что счастливым считается номер, у которого количество четных цифр равно количеству нечетных."
      ],
      "metadata": {
        "id": "7FN18YUqukwb"
      }
    },
    {
      "cell_type": "code",
      "source": [
        "# Программирование на языке высокого уровня (Python).\n",
        "# https://www.yuripetrov.ru/edu/python\n",
        "# Задание task_05_02_03.\n",
        "#\n",
        "# Выполнил: Кравцова\n",
        "# Группа: АДЭУ_211\n",
        "\n",
        "Ln = [] \n",
        "Ln1 = []\n",
        "\n",
        "def is_lucky(num):\n",
        "    ch = 0\n",
        "    nech = 0\n",
        "    for n in map(int, str(num)):\n",
        "        if n % 2 == 0:\n",
        "            ch += 1\n",
        "        else:\n",
        "            nech += 1\n",
        "    if ch == nech:\n",
        "        Ln.append(num)\n",
        "    else:\n",
        "        pass\n",
        "\n",
        "def lucky_numbers(a, b):\n",
        "    num = a   \n",
        "    while num in range(a, b + 1):\n",
        "        is_lucky(num)\n",
        "        if num in Ln:\n",
        "            Ln1.append(num)\n",
        "            num += 1\n",
        "        else:\n",
        "            num += 1\n",
        "    for i in Ln1:\n",
        "        print(i, end=\" \") \n",
        "\n",
        "a = int(input(\"Первый номер билета: \"))\n",
        "b = int(input(\"Последний номер билета: \"))\n",
        "\n",
        "print(lucky_numbers(a, b))\n",
        "\n",
        "# --------------\n",
        "# Пример вывода:\n",
        "#\n",
        "# Первый номер билета: 10\n",
        "# Последний номер билета: 25\n",
        "# 10 12 14 16 18 21 23 25\n"
      ],
      "metadata": {
        "colab": {
          "base_uri": "https://localhost:8080/"
        },
        "id": "9m7zS7NnulLr",
        "outputId": "9bd065e3-96c8-441d-854a-34fa9482998f"
      },
      "execution_count": 3,
      "outputs": [
        {
          "output_type": "stream",
          "name": "stdout",
          "text": [
            "Первый номер билета: 10\n",
            "Последний номер билета: 25\n",
            "10 12 14 16 18 21 23 25 None\n"
          ]
        }
      ]
    },
    {
      "cell_type": "markdown",
      "metadata": {
        "id": "KbDSVcfO8TDr"
      },
      "source": [
        "№ 5.2.4\n",
        "\n",
        "Дата характеризуется тремя натуральными числами: день, месяц и год. Учитывая, что год может быть високосным, реализуйте две функции, которые определяют вчерашнюю и завтрашнюю дату"
      ]
    },
    {
      "cell_type": "code",
      "source": [
        "# Программирование на языке высокого уровня (Python).\n",
        "# https://www.yuripetrov.ru/edu/python\n",
        "# Задание task_05_02_04.\n",
        "#\n",
        "# Выполнил: Кравцова\n",
        "# Группа: АДЭУ_211\n",
        "\n",
        "def is_leap(year):\n",
        "    if (year % 4 == 0 and year % 100 != 0) or (year % 400 == 0):\n",
        "        A = True\n",
        "    else:\n",
        "        A = False\n",
        "    return A\n",
        "\n",
        "def days(month, year):\n",
        "    dm31 = [1,3,5,7,8,10,12]\n",
        "    dm30 = [4,6,9,11]\n",
        "    if is_leap(year) == True:\n",
        "        dm29 = [2]\n",
        "    else:\n",
        "        dm28 = [2]\n",
        "    if month in dm31:\n",
        "        date = 31\n",
        "    elif month in dm30:\n",
        "        date = 30\n",
        "    elif month in dm29:\n",
        "        date = 29\n",
        "    else:\n",
        "        date = 28\n",
        "    return date\n",
        "\n",
        "def next_date(day, month, year):\n",
        "    if day == days(month, year):\n",
        "        month += 1\n",
        "        if month == 13:\n",
        "            month = 1\n",
        "            year += 1\n",
        "            day = 1\n",
        "        else:\n",
        "            month += 1\n",
        "            year = year\n",
        "            day = 1\n",
        "    else:\n",
        "        day += 1\n",
        "        month = month\n",
        "        year = year\n",
        "    return day, month, year\n",
        "\n",
        "def previous_date(day, month, year):\n",
        "    if day == 1:\n",
        "        month -= 1\n",
        "        if month == 0:\n",
        "            year -= 1\n",
        "            month = 12\n",
        "            day = days(12, year)\n",
        "        else:\n",
        "            year = year\n",
        "            month = month\n",
        "            day = days(month, year)\n",
        "    else:\n",
        "        day -= 1\n",
        "        month = month\n",
        "        year = year\n",
        "    return day, month, year\n",
        "\n",
        "day, month, year = input('День, месяц, год через пробел: ').split()\n",
        "day = int(day)\n",
        "month = int(month)\n",
        "year = int(year)\n",
        "print('Предыдущий день: ',previous_date(day, month, year))\n",
        "print('Следующий день: ',next_date(day, month, year))\n",
        "\n",
        "# --------------\n",
        "# Пример вывода:\n",
        "#\n",
        "# День, месяц, год через пробел: 1 3 2000\n",
        "# Предыдущий день: 29/02/2000\n",
        "# Следующий день: 02/03/2000\n"
      ],
      "metadata": {
        "colab": {
          "base_uri": "https://localhost:8080/"
        },
        "id": "QTpop4H3u7jI",
        "outputId": "1f2041c7-7744-4481-a5ff-eaef50a49e9d"
      },
      "execution_count": 9,
      "outputs": [
        {
          "output_type": "stream",
          "name": "stdout",
          "text": [
            "День, месяц, год через пробел: 1 3 2000\n",
            "Предыдущий день:  (29, 2, 2000)\n",
            "Следующий день:  (2, 3, 2000)\n"
          ]
        }
      ]
    },
    {
      "cell_type": "markdown",
      "source": [
        "№ 5.2.5\n",
        "\n",
        "В задаче № 5.2.4 замените функции получения вчерашней и завтрашней даты на одну:\n",
        "\n",
        "def another_date(day, month, year, delta=1):\n",
        "\n",
        "pass\n",
        "\n",
        "где delta - ключевой параметр, определяющий сколько дней необходимо добавить или вычесть (если аргумент отрицательный) из переданной даты. Функции, реализованные в задаче № 5.2.4 сделайте локальными для another_date(), вызывая их внутри необходимое количество раз."
      ],
      "metadata": {
        "id": "dCyGgIBYu8Gb"
      }
    },
    {
      "cell_type": "code",
      "source": [
        "# Программирование на языке высокого уровня (Python).\n",
        "# https://www.yuripetrov.ru/edu/python\n",
        "# Задание task_05_02_05.\n",
        "#\n",
        "# Выполнил: Кравцова\n",
        "# Группа: АДЭУ_211\n",
        "\n",
        "def is_leap(year):\n",
        "    if (year % 4 == 0 and year % 100 != 0) or (year % 400 == 0):\n",
        "        A = True\n",
        "    else:\n",
        "        A = False\n",
        "    return A\n",
        "\n",
        "def days(month, year):\n",
        "    dm31 = [1,3,5,7,8,10,12]\n",
        "    dm30 = [4,6,9,11]\n",
        "    if is_leap(year) == True:\n",
        "        dm29 = [2]\n",
        "    else:\n",
        "        dm28 = [2]\n",
        "    if month in dm31:\n",
        "        date = 31\n",
        "    elif month in dm30:\n",
        "        date = 30\n",
        "    elif month in dm29:\n",
        "        date = 29\n",
        "    else:\n",
        "        date = 28\n",
        "    return date\n",
        "\n",
        "def another_date(day, month, year, delta=1):\n",
        "    if delta < 0:\n",
        "        day += delta\n",
        "        if day <= 0:\n",
        "            month -= 1\n",
        "            if month == 0:\n",
        "                month = 12\n",
        "                year -= 1\n",
        "                day = days(12, year) + day\n",
        "            else:\n",
        "                month = month\n",
        "                year = year\n",
        "                day = days(month, year) + day\n",
        "        else:\n",
        "            day = day\n",
        "            month = month\n",
        "            year = year\n",
        "        return day, month, year\n",
        "    elif delta > 0:\n",
        "        day += delta\n",
        "        if day > days(month, year):\n",
        "            day = day - days(month, year)\n",
        "            month += 1\n",
        "            if month > 12:\n",
        "                month -= 12\n",
        "                year += 1\n",
        "            else:\n",
        "                month += 1\n",
        "                year = year\n",
        "        else:\n",
        "            day = day\n",
        "            month = month\n",
        "            year = year\n",
        "        return day, month, year\n",
        "    else:\n",
        "        return day, month, year\n",
        "\n",
        "day, month, year = input('День, месяц, год через пробел: ').split()\n",
        "day = int(day)\n",
        "month = int(month)\n",
        "year = int(year)\n",
        "delta = int(input('Свдиг (может быть отрицательным): '))\n",
        "print('Новый день: ', another_date(day, month, year, delta))\n",
        "\n",
        "# --------------\n",
        "# Пример вывода:\n",
        "#\n",
        "# День, месяц, год через пробел: 1 1 2000\n",
        "# Свдиг (может быть отрицательным): -2\n",
        "# Новый день: 30/12/1999\n",
        "#\n",
        "# День, месяц, год через пробел: 1 1 2000\n",
        "# Свдиг (может быть отрицательным): 2\n",
        "# Новый день: 03/01/2000\n"
      ],
      "metadata": {
        "colab": {
          "base_uri": "https://localhost:8080/"
        },
        "id": "zYvUUFQcvB7w",
        "outputId": "29be0013-2f4d-4895-fc2b-e888c865707c"
      },
      "execution_count": 4,
      "outputs": [
        {
          "output_type": "stream",
          "name": "stdout",
          "text": [
            "День, месяц, год через пробел: 1 1 2000\n",
            "Свдиг (может быть отрицательным): -2\n",
            "Новый день:  (30, 12, 1999)\n"
          ]
        }
      ]
    },
    {
      "cell_type": "markdown",
      "source": [
        "№ 5.2.6\n",
        "\n",
        "Дан список из чисел.\n",
        "\n",
        "Определите их НОК (наименьшее общее кратное) и НОД (наибольший общий делитель)."
      ],
      "metadata": {
        "id": "NReLYcO1vwK_"
      }
    },
    {
      "cell_type": "code",
      "source": [
        "# Программирование на языке высокого уровня (Python).\n",
        "# https://www.yuripetrov.ru/edu/python\n",
        "# Задание task_05_02_06.\n",
        "#\n",
        "# Выполнила: Кравцова\n",
        "# Группа: адэу-211\n",
        "\n",
        "\n",
        "#Вернуть НОД целых чисел 'first' и 'second'.\n",
        "def gcd(first, second):\n",
        "    while first != 0 and second != 0:\n",
        "        if first > second:\n",
        "            first = first % second\n",
        "        else:  \n",
        "            second = second % first\n",
        "    return first + second          \n",
        "\n",
        "#Вернуть НОК целых чисел 'first' и 'second'.\n",
        "def lcm(first, second):\n",
        "    if gcd(first, second) != 0:\n",
        "        return (abs(first * second))/gcd(first, second)\n",
        "    else:\n",
        "        return 0\n",
        "\n",
        "#Вернуть НОД чисел из списка 'nums'.\n",
        "def gcd_nums(nums):\n",
        "    result = nums[0]\n",
        "    for i in range(1, len(nums)):\n",
        "        result = gcd(result, nums[i])\n",
        "    return result\n",
        "\n",
        "#Вернуть НОК чисел из списка 'nums'.\n",
        "def lcm_nums(nums):\n",
        "    result = nums[0]\n",
        "    for i in range(1, len(nums)):\n",
        "        result = lcm(result, nums[i]) \n",
        "    return result\n",
        "\n",
        "nums = [int(i) for i in input('Введите числа через пробел: ').split(sep=' ')]\n",
        "\n",
        "\n",
        "nod = int(gcd_nums(nums))\n",
        "nok = int(lcm_nums(nums))\n",
        "\n",
        "print('НОД = ', nod)\n",
        "print('НОК = ', nok)\n",
        "# --------------\n",
        "# Пример вывода:\n",
        "#\n",
        "# Введите числа через пробел: 8 10 14\n",
        "# НОД = 2\n",
        "# НОК = 280\n",
        "#\n",
        "# Введите числа через пробел: 6 8 24 16\n",
        "# НОД = 2\n",
        "# НОК = 48"
      ],
      "metadata": {
        "colab": {
          "base_uri": "https://localhost:8080/"
        },
        "id": "QnOyR13lxxlW",
        "outputId": "1b3d0477-310b-4fc8-b170-7fe41a92773d"
      },
      "execution_count": 7,
      "outputs": [
        {
          "output_type": "stream",
          "name": "stdout",
          "text": [
            "Введите числа через пробел: 8 10 14\n",
            "НОД =  2\n",
            "НОК =  280\n"
          ]
        }
      ]
    },
    {
      "cell_type": "markdown",
      "source": [
        "№ 5.2.8\n",
        "\n",
        "Дана строка s и символ k. Реализуйте функцию, рисующую рамку из символа k вокруг данной строки, например:\n",
        "\n"
      ],
      "metadata": {
        "id": "meT2Rm_q0bHM"
      }
    },
    {
      "cell_type": "code",
      "source": [
        "# Программирование на языке высокого уровня (Python).\n",
        "# https://www.yuripetrov.ru/edu/python\n",
        "# Задание task_05_02_08.\n",
        "#\n",
        "# Выполнила: Кравцова \n",
        "# Группа: адэу-211\n",
        "\n",
        "\n",
        "\n",
        "def print_with_border(string, char):\n",
        "    len(string) + 2\n",
        "    print(char * (len(string)+2))\n",
        "    print(char + string + char)\n",
        "    print(char * (len(string)+2))\n",
        "\n",
        "\n",
        "s = input(\"Введите строку: \")\n",
        "k = input(\"Введите символ: \")\n",
        "\n",
        "print_with_border(s,k)\n",
        "# --------------\n",
        "# Пример вывода:\n",
        "#\n",
        "# Введите строку: Просто текст\n",
        "# Введите символ: +\n",
        "# ++++++++++++++\n",
        "# +Просто текст+\n",
        "# ++++++++++++++"
      ],
      "metadata": {
        "colab": {
          "base_uri": "https://localhost:8080/"
        },
        "id": "LiyhIEIY0hom",
        "outputId": "362866a0-4911-4b2e-9c1a-ed94f7bb09ae"
      },
      "execution_count": 10,
      "outputs": [
        {
          "output_type": "stream",
          "name": "stdout",
          "text": [
            "Введите строку: просто текст\n",
            "Введите символ: +\n",
            "++++++++++++++\n",
            "+просто текст+\n",
            "++++++++++++++\n"
          ]
        }
      ]
    },
    {
      "cell_type": "markdown",
      "source": [
        "№ 5.2.14\n",
        "\n",
        "Напишите функцию, которая принимает неограниченное количество числовых аргументов и возвращает кортеж из двух списков:\n",
        "\n",
        "отрицательных значений (отсортирован по убыванию);\n",
        "\n",
        "неотрицательных значений (отсортирован по возрастанию)."
      ],
      "metadata": {
        "id": "nUEA9atnx-pW"
      }
    },
    {
      "cell_type": "code",
      "source": [
        "# Программирование на языке высокого уровня (Python).\n",
        "# https://www.yuripetrov.ru/edu/python\n",
        "# Задание task_05_02_14.\n",
        "#\n",
        "# Выполнил: Кравцова\n",
        "# Группа: !!!\n",
        "# E-mail: !!!\n",
        "minus=[]\n",
        "plus=[]\n",
        "numbers=list(map(int,input().split()))\n",
        "def split_numbers(numbers):\n",
        "   for n in numbers:\n",
        "     if n<0:\n",
        "       minus.append(n)\n",
        "     else:\n",
        "       plus.append(n)\n",
        "   plus.sort()\n",
        "   minus.sort()\n",
        "   minus.reverse()\n",
        "   print('(',minus ,',',plus,')')\n",
        "\n",
        "\n",
        "\n",
        "print(split_numbers(numbers))\n",
        "\n",
        "# --------------\n",
        "# Пример вывода:\n",
        "#\n",
        "# ([-5, -33], [0, 1, 4])"
      ],
      "metadata": {
        "colab": {
          "base_uri": "https://localhost:8080/"
        },
        "id": "I0TFcZ7ox_nt",
        "outputId": "80fc8aad-1cee-4e72-dbe4-f5401c6a6633"
      },
      "execution_count": 6,
      "outputs": [
        {
          "output_type": "stream",
          "name": "stdout",
          "text": [
            "1 4 -5 0 -33\n",
            "( [-5, -33] , [0, 1, 4] )\n",
            "None\n"
          ]
        }
      ]
    }
  ]
}