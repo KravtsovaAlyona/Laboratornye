{
  "nbformat": 4,
  "nbformat_minor": 0,
  "metadata": {
    "colab": {
      "name": "строки",
      "provenance": [],
      "collapsed_sections": [],
      "toc_visible": true,
      "authorship_tag": "ABX9TyMVD8kDxcS63w8hM1T9kFCZ",
      "include_colab_link": true
    },
    "kernelspec": {
      "name": "python3",
      "display_name": "Python 3"
    },
    "language_info": {
      "name": "python"
    }
  },
  "cells": [
    {
      "cell_type": "markdown",
      "metadata": {
        "id": "view-in-github",
        "colab_type": "text"
      },
      "source": [
        "<a href=\"https://colab.research.google.com/github/KravtsovaAlyona/Laboratornye/blob/main/%D1%81%D1%82%D1%80%D0%BE%D0%BA%D0%B8.ipynb\" target=\"_parent\"><img src=\"https://colab.research.google.com/assets/colab-badge.svg\" alt=\"Open In Colab\"/></a>"
      ]
    },
    {
      "cell_type": "markdown",
      "metadata": {
        "id": "8kKruts4vEoy"
      },
      "source": [
        "№ 3.2.7\n",
        "\n",
        "Составьте программу, которая запрашивает название футбольной команды и повторяет его на экране со словами\n",
        "\n",
        "... - чемпион!\n",
        "После этого выполните:\n",
        "\n",
        "используя операцию дублирования, нарисуйте черту (набор \"-\"), длиной, равной размеру названия команды;\n",
        "\n",
        "преобразуйте строку в нижний регистр и выведите на экран:\n",
        "\n",
        "длину наименования команды;\n",
        "\n",
        "есть ли в наименовании команды буква \"п\" (True/False)?\n",
        "\n",
        "сколько раз повторяется буква \"а\"?"
      ]
    },
    {
      "cell_type": "code",
      "metadata": {
        "colab": {
          "base_uri": "https://localhost:8080/"
        },
        "id": "PjmXliBB71ag",
        "outputId": "aa95f8fe-37cc-4671-a36b-745adc5506be"
      },
      "source": [
        " #Выполнил: Кравцова\n",
        " #Группа: АДЭУ-211\n",
        " team=input(\"Введите название команды:\")\n",
        " print(team,\"-чемпион!\")\n",
        "\n",
        " print(\"-\"* len(team))\n",
        " team_lowercase= team.lower()\n",
        " print('Символ в названии:',len(team_lowercase))\n",
        " print('Буква \"п\" есть:', \"п\" in team_lowercase)\n",
        " print('Количество букв \"а\":', team_lowercase.find('a'))"
      ],
      "execution_count": null,
      "outputs": [
        {
          "output_type": "stream",
          "name": "stdout",
          "text": [
            "Введите название команды:спартак\n",
            "спартак -чемпион!\n",
            "-------\n",
            "Символ в названии: 7\n",
            "Буква \"п\" есть: True\n",
            "Количество букв \"а\": -1\n"
          ]
        }
      ]
    },
    {
      "cell_type": "markdown",
      "metadata": {
        "id": "I31Q7l7Rv550"
      },
      "source": [
        "№ 3.2.8\n",
        "\n",
        "Составьте программу, которая запрашивает название государства и его столицы, а затем выводит сообщение:\n",
        "\n",
        "Государство - ..., столица - ..."
      ]
    },
    {
      "cell_type": "code",
      "metadata": {
        "colab": {
          "base_uri": "https://localhost:8080/"
        },
        "id": "lXGqYybRwB6S",
        "outputId": "6fba192e-7306-453f-db89-27d32174904f"
      },
      "source": [
        "# Программирование на языке высокого уровня (Python).\n",
        "# https://www.yuripetrov.ru/edu/python\n",
        "# Задание task_03_02_08.\n",
        "#\n",
        "# Выполнил: Кравцова\n",
        "# Группа: АДЭУ-211\n",
        "\n",
        "\n",
        "# Название государства\n",
        "country = input('Введите название государства:')\n",
        "# Название столицы\n",
        "capital = input('Введите название столицы:')\n",
        "\n",
        "print(\"Государство-{},столица-{}.\".format(country, capital))\n",
        "\n",
        "\n",
        "\n"
      ],
      "execution_count": null,
      "outputs": [
        {
          "output_type": "stream",
          "name": "stdout",
          "text": [
            "Введите название государства:Россия\n",
            "Введите название столицы:Москва\n",
            "Государство-Россия,столица-Москва.\n"
          ]
        }
      ]
    },
    {
      "cell_type": "markdown",
      "metadata": {
        "id": "Oa9M_3IV0S-R"
      },
      "source": [
        "№ 3.2.9\n",
        "\n",
        "Дано слово объектно-ориентированный. Используя индексацию и срезы составьте из него слова объект, ориентир, тир, кот, рента и выведите их на экран."
      ]
    },
    {
      "cell_type": "code",
      "metadata": {
        "colab": {
          "base_uri": "https://localhost:8080/"
        },
        "id": "DkeAKERP0XQT",
        "outputId": "775289c9-3eab-4487-8e3a-1c0a1f67599a"
      },
      "source": [
        "# Программирование на языке высокого уровня (Python).\n",
        "# https://www.yuripetrov.ru/edu/python\n",
        "# Задание task_03_02_09.\n",
        "#\n",
        "# Выполнил: Кравцова\n",
        "# Группа: АДЭУ-211\n",
        "\n",
        "\n",
        "word = \"объектно-ориентированный\"\n",
        "\n",
        "w1 =word[0:6]  \n",
        "w2= word[9:17]\n",
        "w3= word[14:17]\n",
        "w4= word[4]+word[0]+word[5]\n",
        "w5= word[10]+word[3]+word[6]+word[5]+word[-5]\n",
        "\n",
        "\n",
        "print(w1,w2,w3,w4,w5, sep='\\n')\n",
        "\n",
        "\n",
        "# --------------\n",
        "# Пример вывода:\n",
        "#\n",
        "# объект\n",
        "# ориентир\n",
        "# тир\n",
        "# кот\n",
        "# рента\n"
      ],
      "execution_count": 5,
      "outputs": [
        {
          "output_type": "stream",
          "name": "stdout",
          "text": [
            "объект\n",
            "ориентир\n",
            "тир\n",
            "кот\n",
            "рента\n"
          ]
        }
      ]
    },
    {
      "cell_type": "code",
      "metadata": {
        "id": "ablmYGil8j2G"
      },
      "source": [
        ""
      ],
      "execution_count": null,
      "outputs": []
    }
  ]
}