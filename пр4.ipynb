{
  "nbformat": 4,
  "nbformat_minor": 0,
  "metadata": {
    "colab": {
      "name": " пр4",
      "provenance": [],
      "collapsed_sections": [],
      "authorship_tag": "ABX9TyNUEtypwhfJs4awmk2UhMsx",
      "include_colab_link": true
    },
    "kernelspec": {
      "name": "python3",
      "display_name": "Python 3"
    },
    "language_info": {
      "name": "python"
    }
  },
  "cells": [
    {
      "cell_type": "markdown",
      "metadata": {
        "id": "view-in-github",
        "colab_type": "text"
      },
      "source": [
        "<a href=\"https://colab.research.google.com/github/KravtsovaAlyona/Laboratornye/blob/main/%D0%BF%D1%804.ipynb\" target=\"_parent\"><img src=\"https://colab.research.google.com/assets/colab-badge.svg\" alt=\"Open In Colab\"/></a>"
      ]
    },
    {
      "cell_type": "markdown",
      "metadata": {
        "id": "zxNVklFQa9At"
      },
      "source": [
        "![ПР4.PNG](data:image/png;base64,iVBORw0KGgoAAAANSUhEUgAAA10AAAIRCAYAAACxltf8AAAAAXNSR0IArs4c6QAAAARnQU1BAACxjwv8YQUAAAAJcEhZcwAADsMAAA7DAcdvqGQAACMeSURBVHhe7d2Lj21Xfdhx/y/+X3qlSqiVkkiRIlXqC2oQDU1LXiRt0xK3N0mhoLQKQXFSlWJD5IS3sWMTg7GwCyEx4tHYXOxi84jBgG1s4xe7rMlZ6vbKntnH9+6157fm9/mgrTtzHvucM3f/NuvrMzP3ugkAAIBuRBcAAEBHogsAAKAj0QUAANCR6AIAAOhIdAEAAHQkugAAADoSXQAAAB2JLgAAgI5EFwAAQEeiCwAAoCPRBQAA0JHoAgAA6Eh0AQAAdCS6AAAAOhJdAAAAHYkuAACAjkQXAABAR6ILAACgI9EFAADQkegCAADoSHQBAAB0JLoAAAA6El0AAAAdiS4AAICORBcAAEBHogsAAKAj0QUAANCR6AIAAOhIdAEAAHQkugAAADoSXQAAAB2JLgAAgI5EFwAAQEeiCwAAoCPRBQAA0JHoAgAA6Eh0AQAAdCS6AAAAOhJdAAAAHYkuAACAjkQXAABAR6ILAACgI9EFAADQkegCAADoSHQBAAB0JLoAAAA6El0AAAAdiS4AAICORBcAAEBHogsAAKAj0QUAANCR6AIAAOhIdAEAAHQkugAAADoSXcBu3nTrJZvNZuuyAUQmuoDdWBgBPTi3ANGJLmA3FkZAD84tQHSiC9iNhRHQg3MLEJ3oAnZjYQT04NwCRCe6gN1YGAE9OLcA0YkuYDcWRkAPzi1AdKIL2I2FEdCDcwsQnegCdmNhBPTg3AJEJ7qA3VgYAT04twDRiS5gNxZGQA/OLUB0ogvYjYUR0INzCxCd6AJ2Y2EE9ODcAkQnuoDdWBgBPTi3ANGJLmA3FkZAD84tQHSiC9iNhRHQg3MLEJ3oAnZjYQT04NwCRCe6gN1YGAE9OLcA0YkuYDcWRkAPzi1AdKIL2I2FEdCDcwsQnegCdmNhBPTg3AJEJ7qA3VgYAT04twDRiS5gNxZGQA/OLUB0ogvYjYUR0INzCxCd6AJ2Y2EE9ODcAkQnuoDdWBgBPTi3ANGJLmA3FkZAD84tQHSiC9iNhRHQg3MLEJ3oAnZjYQT04NwCRCe6gN1YGAE9OLcA0YkuYDcWRkAPzi1AdKIL2I2FEdCDcwsQnegCdmNhBPTg3AJEJ7qA3VgYAT04twDRiS5gNxZGQA/OLUB0ogvYjYUR0INzCxCd6AJ2Y2EE9ODcAkQnuoDdWBgBPTi3ANGJLmA3FkZAD84tQHSiC9iNhRHQg3MLEJ3oAnZjYQT04NwCRCe6gN1YGAE9OLcA0Yku4Gg/evHZw0dXx8II6OFazy3Xem4DWCO6gKP90gf/4fTez/3O9NDjDxwueXVEF9DD1Z5bHnniK9P7P//Ok3MbQE+iCzhaWdh86qsfnH77ztdPb739H093/p9bpu8/+53DtetE1/m7/vrrp0uXlv8eLl++PF133XXTlStXDpfAGF7NueWp5743feLBP55uvOOfTZf/7HUnHzs3Ab2JLuBo84XJ17/319Otf/Xfpl//6M9Ov/fpt0x/9dinphdfev5w7TILm/N3WnSV0CrBJboY0dq55eUfvzR94Rv3Tn/wmd+YfuVDP3Xy7lZ5l6tybgJ6E13A0ZYWJiW0Pv/o3Sfh9ZYP/8z0pw/83vTYD756uPaVLGzO32nRVS4XXYzqtHPL3zz19emDX3j3yX8c+t1PvXn67P+9a/E/Djk3Ab2JLuBoawuT8q2Gt3/lvdN/uO0fTf/lE288+VbEZ194+nCthU0ES9FVv63wtG8vnAdZ2e65556Ty+fvjrVbuU+19m2LdT8333zzyb7n+5lv833ecMMNr7iufD5Xr2+V1z5//Wfdbv541fwxl+7H+ZifW8ovxbj3ax+Z3v7nPz/9+4/93PSxL/3R9MQz3z5cu8y5CejN/2MAR3s1C5Pyyzbe89nLJ9/K8z/uv3H6yrc/a2ETQBtdNXhKGC3FUbn9PD7KdfXzGkglluZKyMzv82qia+60+5X9l+uq+jzml11LdNXHbV93uazcvjrtMdhfObeUc075RT/zc86xnJuA3vy/BQzs5979pV23q1mY1P/qfOMdb5ze/Kc/O9325f85fefpbxyuZW8lJObRMf+8jZwSQfPPW+cVXUva13W10TV/p23+GtrXVJXbzWOPfZVzSXl3/Rc/8DPTb97+hpN313/4/JOHa49Xzm1L57zI261/8fjh2QMjEF0wsPJ/vHu6muia/8zXmz/wmpNfvvHNJx8+XMvezoqs9vO1d3JebXS1W7VFdK3FVLV2u/Jxuax9DeXjclnrtMvZR/2ZrXJuOetnttaM9k5XCS7RBWMRXTCwyNFVfplG+9sNR1vYXEQ1upaCaSm65uHRupZ3uspzKJcVVxNd9f7zbSmmlrbTomv+vNvX0O5jvpXbcr7KuaX8dsJ33/tvT36hT/vbCdeILqA30QUDixZd5dt65v+OV/m2n/m/4yW6zl+Nrvrn3J7RVe9b/ny10VX23T6v8lpOi6m5025XHrs+n3r5/DHKdeUyYpqfW5b+Ha61bzkUXUBvogsGFiG6yr9/U35gvfzgevkB9vKD7OUH2peIrvNXQqIERNnamGkjp4ZIe7vqPKKr3rZcN3ct0VW/JvN9tq+hvR+xnHZuKe923fIXbz85N5V/o+uL37rv5JzVEl1Ab6ILBnae0VV+BXP5VczlVzKXX838mYdvO/mlGWcRXeevBkYbOMVS5JTP57FRrqsxci3RVa6vt6khdUx0Fe1zqoG1dFmrjael+xbta6ivtY29cptyHedr7dxSfs7r/kfuOPm5r/Itzx/+4k0nPw9WiS6gN9EFAzuP6JovXMoPsM8XLmtE1/krkdAGRnVW5My3GhnHRle5vt3H/Dm82uiqt69bebyyLcVUq9zmmNu1r6FoH7dsgiuGV3NuKb/xsP0PRqIL6E10wcD2jq5f+JO/f+a36KwRXUAPV3Nuqd8a/Yf3vXX6Nx94zeHSMYguGI/ogoHtHV1X8+/fzIkuoIdrPbdc67ltb6ILxiO6YGB7R9e1El1AD9nOLaILxiO6YGCiC0B0AfGJLhiY6AIQXUB8ogsGJroARBcQn+iCgYkuANEFxCe6YGCiC0B0AfGJLhiY6AIQXUB8ogsGJroARBcQn+iCgYkuANEFxCe6YGCiC0B0AfGJLhiY6AIQXUB8ogsGJroARBcQn+iCgYkuANEFxCe6YGCiC0B0AfGJLhiY6AIQXUB8ogsGJroARBcQn+iCgYkuANEFxCe6YGCiC0B0AfGJLhiY6AIQXUB8ogsGJroARBcQn+iCgYkuANEFxCe6YGCiC0B0AfGJLhiY6AIQXUB8ogsGJroARBcQn+iCgYkuANEFxCe6YGCiC0B0AfGJLhiY6AIQXUB8ogsGJroARBcQn+iCgYkuANEFxCe6YGCiC0B0AfGJLhiY6AIQXUB8ogsGJroARBcQn+iCgYkuANEFxCe6YGCiC0B0AfGJLhiY6AIQXUB8ogsGJroARBcQn+iCgYkuANEFxCe6YGCiC0B0AfGJLhiY6AIQXUB8ogsGJroARBcQn+iCgY0YXTabzdZjy0R0wXhEFwxstOgC4NqJLhiP6IKBiS6AfEQXjEd0wcBEF0A+ogvGI7pgYKILIB/RBeMRXTAw0QWQj+iC8YguGJjoAshHdMF4RBcMTHQB5CO6YDyiCwYmugDyEV0wHtEFAxNdAPmILhiP6IKBiS6AfEQXjEd0wcBEF0A+ogvGI7pgYKILIB/RBeMRXTAw0QWQj+iC8YguGJjoAshHdMF4RBcMTHQB5CO6YDyiCwYmugDyEV0wHtEFAxNdAPmILhiP6IKBiS6AfEQXjEd0wcBEF0A+ogvGI7pgYKILIB/RBeMRXTAw0QWQj+iC8YguGJjoAshHdMF4RBcMTHQB5CO6YDyiCwYmugDyEV0wHtEFAxNdAPmILhiP6IKBiS6AfEQXjEd0wcBEF0A+ogvGI7pgYKILIB/RBeMRXTAw0QWQj+iC8YguGJjoAshHdMF4RBcMTHQB5CO6YDyiCwYmugDyEV0wHtEFAxNdAPmILhiP6IKBiS6AfEQXjEd0wcBEF0A+ogvGI7pgYKILIB/RBeMRXTAw0QWQj+iC8YguGJjoAshHdMF4RBcMTHQB5CO6YDyiCwYmugDyEV0wHtEFAxNdAPmILhiP6IKBiS6AfEQXjEd0wcBEF0A+ogvGI7pgYKILIB/RBeMRXTAw0QWQj+iC8YguGJjoAshHdMF4RBcMTHQB5CO6YDyiCwYmugDyEV0wHtEFAxNdAPmILhiP6ErmTbdesl2g7bXvedvi5bYxN4BjiC4Yj+hKxsIOYjKbwLFEF4xHdCVjYQcxmU3gWKILxiO6krGwg5jMJnAs0QXjEV3JWNhBTGYTOJbogvGIrmQs7CAmswkcS3TBeERXMhZ2EJPZBI4lumA8oisZCzuIyWwCxxJdMB7RlYyFHcRkNoFjiS4Yj+hKxsIOYjKbwLFEF4xHdCVjYQcxmU3gWKILxiO6krGwg5jMJnAs0QXjEV3JWNhBTGYTOJbogvGIrmQs7CAmswkcS3TBeERXMhZ2EJPZBI4lumA8oisZCzuIyWwCxxJdMB7RlYyFHcRkNtlLOdZsY29veN/rT7al62xjbeQhupIx4BCT2WQvjjWIwSzmIrqSMeAQk9lkL441iMEs5iK6kjHgEJPZZC+ONYjBLOYiupIx4BCT2WQvjjWIwSzmIrqSMeAQk9lkL441iMEs5iK6kjHgEJPZZC+ONYjBLOYiupIx4BCT2WQvjjWIwSzmIrqSMeAQk9lkL441iMEs5iK6kjHgEJPZZC+ONYjBLOYiupIx4BCT2WQvjjWIwSzmIrqSMeAQk9lkL441iMEs5iK6kjHgEJPZZC+ONYjBLOYiupIx4BCT2WQvjjWIwSzmIrqSMeAQk9lkL441iMEs5iK6kjHgEJPZZC+ONYjBLOYiupIx4BCT2WQvjjWIwSzmIrqSMeAQk9lkL441iMEs5iK6kjHgEJPZZC+ONYjBLOYiupIx4BCT2WQvjjWIwSzmIrqSMeAQk9lkL441iMEs5iK6kjHgEJPZZC+ONYjBLOYiupIx4BCT2WQvjjWIwSzmIrqSMeAQk9lkL441iMEs5iK6kjHgEJPZZC+ONYjBLOYiupIx4BCT2WQvjjWIwSzmIrqSMeAQk9lkL441iMEs5iK6kjHgEJPZZC+ONYjBLOYiupIx4BCT2WQvjjWIwSzmIrqSMeAQk9lkL441iMEs5iK6kjHgEJPZZC+ONYjBLOYiupIx4HHcfPPN03XXXXfmdsMNNxxuzUVnNtmLYw1iMIu5iK5kDHhcly5dmq6//vrDZ2RjNtmLYw1iMIu5iK5kDHhcois3s8leHGsQg1nMRXQlY8DjOi267rnnnld8y2G5XevKlSuvuE3ZivLtie3ldbt8+fLJbYjBbLIXxxrEYBZzEV3JGPC4lqKr/txX+bMqt5mHVw2u+c9/ldu3Pw/W3o9YzCZ7caxBDGYxF9GVjAGPaym6yudtPNV3vsqfRbm+vd8S0RWb2WQvjjWIwSzmIrqSMeBxtdFV38Gav8tVtJcfG1OiKzazyV4caxCDWcxFdCVjwONqo6v9Wa52m0dX+27YEtEVm9lkL441iMEs5iK6kjHgcZ0WXe07XS3RdTGYTfbiWIMYzGIuoisZAx5XG11Fia613zLoZ7ouBrPJXhxrEINZzEV0JWPA41qKrhJcJbzqL80o6s90VfUdsXmc+e2F4zGb7MWxdu3quXm+zc/TcAyzmIvoSsaAx7UUXUUJqPb/3FtLP//VEl2xmU324li7NiW42v+oVSPsmG/1hsos5iK6kjHgEJPZZC+OtT6WvjMBzmIWcxFdyRhwiMlsshfHWh9L/1D90ncYtLcpn8+39pcn1f3Ot3LZXNlfuXzpuyXKZeW6+begV/N9lm2uPm57v/qdFeLy2pnFXERXMgYcYjKb7MWx1k8JnHn4tNFVv128BkuJpXlkte+WtT/DW5T9nXZZ2eZBVgOpbPPQq/udX1bDrRJd/ZnFXERXMgYcYjKb7MWxdu3mkbO0VW10lY/nUdaqodO+2zXXhltR9lmiqfw5j6RyWXnMulX1tq2y33p/0dWfWcxFdCVjwCEms8leHGv9lLApQVLNo+uYWGnfbVqytJ/yeYmjNqbKxyXSli4vl7Xml4uu/sxiLqIrGQMOMZlN9uJY66dESxs3JVDqVkKmVUOrbm3M1Mhpt3q7+btj8yCqH5frSziVj6vy8WlbG12nbfXxuXpmMRfRlYwBh5jMJntxrPVRI2X+DlKJrvpOV72+fedorn7rYL1N/bz8Wc3Daunz8pj1Xa/62HU/5TkU5eP581xy2vNtH4+rZxZzEV3JGHCIyWyyF8daH/XdpHmMzKOrqLc5yzyIyp/t7dvoaYOqxlZ57Bpr7X3K9fPntUR09WcWcxFdyRhwiMlsshfH2rUpUdOGSA2f9t2jNrrakCnX1Vgq6n5qLLUhV+8/v6wNuRpF88vq/doIa19Heb7tY7W3qfett+PqmcVcRFcyBhxiMpvsxbF27UqclPCYb0sR0kZXUT4vt6/a/dQwquq7XXVro6dcXx5nbulxy33mATUPuLrNX4Po6s8s5iK6kjHgEJPZZC+ONYjBLOYiupIx4BCT2WQvjjWIwSzmIrqSMeAQk9lkL441iMEs5iK6kjHgEJPZZC+ONYjBLOYiupIx4BCT2WQvjjWIwSzmIrqSMeAQk9lkL441iMEs5iK6kjHgEJPZZC+ONYjBLOYiupIx4BCT2WQvjjWIwSzmIrqSMeAQk9lkL441iMEs5iK6kjHgEJPZZC+ONYjBLOYiupIx4BCT2WQvjjWIwSzmIrqSMeAQk9lkL441iMEs5iK6kjHgEJPZZC+ONYjBLOYiupIx4BCT2WQvjjWIwSzmIrqSMeAQk9lkL441iMEs5iK6kjHgEJPZZC+ONYjBLOYiupIx4BCT2WQvjjWIwSzmIrqSMeAQk9lkL441iMEs5iK6kjHgEJPZZC+ONYjBLOYiupIx4BCT2WQvjjWIwSzmIrqSMeAQk9lkL441iMEs5iK6kjHgEJPZZC+ONYjBLOYiupIx4BCT2WQvjjWIwSzmIrqSMeAQk9lkL441iMEs5iK6kjHgEJPZZC+ONYjBLOYiupIx4BCT2WQvjjWIwSzmIrqSMeAQk9lkL441iMEs5iK6kjHgEJPZZC+ONYjBLOYiupIx4BCT2WQvjjWIwSzmIrqSMeAQk9lkL441iMEs5iK6kjHgEJPZZC+ONYjBLOYiupIx4BCT2WQvjjWIwSzmIrqSMeAQk9lkL441iMEs5iK6kjHgEJPZZC+ONYjBLOYiupIx4BCT2WQvjjWIwSzmIrqSKQNus9librAHxxrEYBZzEV0AkIiFHsRgFnMRXQCQiIUexGAWcxFdAJCIhR7EYBZzEV0AkIiFHsRgFnMRXQCQSFno2TJsf2/hMlu0jTxEFwDABfLkc09Mv3n7P5ke+/6VwyXAeRNdAAAXyP0Pf3z65Y+/Zvr4l99zuAQ4b6ILAOCCePnll6Z33ftr08ceuml6x93/avrRi88ergHOk+gCALggHv3+Q9Nv3fkvpmdffOon8fWW6YHHPn24BjhPogsA4IL4wBd+f/roX9908vH9j318+qP7bzz5GDhfogsA4AJ47oVnpt++8/XTY089dPL5U88/Mf3nO147fe+Zb598Dpwf0QUAcAH85aOfnP77p39xevnHLx0umab3P/D26a4H33/4DDgvogsA4AK46b7/ON336EcPn/2th773l9M77/7X00svv3i4BDgPogsAYHBP/PBb03+645+ffEvh3IsvPz+9/c//5fTQ4w8cLgHOg+gCABjcXQ++b3rfA287fPZKn/jaLdMff/6dh8+A8yC6AAAGVn6G6x13/8L04Hc/d7jklR5/5tHp8p2vm374/JOHS4C9iS4AgIF99TtfmH7nrjdML7z8o8Mlr/Tjn/zvpvt/Y/rMw7cdLgH2JroAAAb2/s+/Y7rryi2Hz5Y98O1PTr9/769PL//45cMlwJ5EFwDAoJ7+0Q9OfoHG3zzz9cMly5598enp8p+9dvrGD752uATYk+gCABjUfQ/fNv3B/f/u5FsI13zoy++aPvqlPzx8BuxJdAEADKiEVvmWwfKtg8d49KkHp7d94o3T8y89d7gE2IvoAgAY0LeefGS68fZ/On33mW9Oz77w9Or29PM/mP7r3T8/ffFb9x32AOxFdAEADOj2r7x3+qWPvGb61Q//9PQrH/qp1a3c7pc/9g+m9/zv3zrsAdiL6AIAuEDe9clvTJ975KnDZ0AEogsA4AIp0fXlb/7w8BkQgegCALhARBfEI7oAAC4Q0QXxiC4AgAvkbXd8XXRBMKILAOACeetHHhFdEIzoAgC4QEQXxCO6AAAuENEF8YguAIALpETXI9997vAZEIHoAgC4QEp0Pf7UC4fPgAhEFwDABSK6IB7RBQBwgYguiEd0AQBcIL/6J1dEFwQjugAALpA33fKg6IJgRBcAwAUiuiAe0QUAcIGILohHdAEAXCAlup55/qXDZ0AEogsA4AIp0QXEIroAAC4Q0QXxiC4AgAtEdEE8ogsAWPWmWy/ZBtle979uXLzcFm8jD9EFAKyyQIRtmalcRBcAsMoCEbZlpnIRXQDAKgtE2JaZykV0AQCrLBBhW2YqF9EFAKyyQIRtmalcRBcAsMoCEbZlpnIRXQDAKgtE2JaZykV0AQCrLBBhW2YqF9EFAKyyQIRtmalcRBcAsMoCEbZlpnIRXQDAKgtE2JaZykV0AQCrLBBhW2YqF9EFAKyyQIRtmalcRBcAsMoCEbZlpnIRXQDAKgtE2JaZykV0AQCrLBBhW2YqF9EFAKyyQIRtmalcRBcAsMoCEbZlpnIRXQDAKgtE2JaZykV0AQCrLBBhW2YqF9EFAKyyQIRtmalcRBcAsMoCEbZlpnIRXQDAKgtE2JaZykV0AQCrLBBhW2YqF9EFAKyyQIRtmalcRBcAsMoCEbZlpnIRXQDAKgtE2JaZykV0AQCrLBBhW2YqF9EFAKyyQIRtmalcRBcAsMoCEbZlpnIRXQDAKgtE2JaZykV0AQCrLBBhW2YqF9EFAKyyQIRtmalcRBcAsMoCEbZlpnIRXQDAKgtE2JaZykV0AQCrLBBhW2YqF9EFAKyyQIRtmalcRBcAsMoCEbZlpnIRXQDAKgtE2JaZykV0AQCrLBDHccMNN0yXLv3/v6+bb755uu46S75ozFQuJhAAWHUeC8QSDiUW2u3KlSuHW7CkRlb9OpUIu/76608+Jg7RlYvoAgBWnVd0tbFQQ0x4na2EllCNTXTlIroAgFVRouuee+45iYjybg6MTHTlIroAgFWRo6vcptz2NJcvXz65T1X3sbTV/dR3ilr1W/fKPqr5/ctW31Vaeq7t/U97nPI8ll5TfYy6ldc2d9b+1r7FsN13++7Y0te53K48ZtXuo43jpa99qzxGufys19/utzzXel3Zjo31+vdxHu8Eiq5c/u6RDgDQiBJdS5ctxcBcG11t+FRlH3U/py3S28cvt5k/drnfWfto739sdNWomAdO3f88vJb2V19/+3WbK481/3rU/cwva7/O7dex3Gf+Wuvj1uvLn+1zKJ8vXVbuV7a5+nhlm7/mst/2svbrXG/T/n3WfYouehNdAMCq84quusieb/PFdVEW1/MYaNXFf9XGQlX2Md/P0n7nj9/ut9Uu9Gs4zZ//sdFVPm7jpGjv335en0PZlu5/lvb1t5+f9pyq+nrb0JmrX8N59JTP6+Xz+5bHK6+vPGb5syqXz59X0T626OK8nX6mAAA4iPJOV10kzxfd5Tblsvk2v76No7qPtehqg6BdoC89v7l2oV+DYa5cNn9uVftcym3mr6lqX0u7v3q/pcde0+6r3L8+p/ra2q/hXHv/Je3XdB5LS1+D8nhLl89Dtppf3v5dVO3j70l05XL2JAAA/ESU6CrqYr4ulOcxUNSFe7ldcbXRNQ+Aon0+7e1bdaFft6Xb1teytM1vXz5fCov6GPW1zEOnfFyf7/zjJfW1Lm1Vuf/88qVQaV9P+zWuX/t2q/uav555ENWPi/lrOet5l62NrtO2pdfSm+jKRXQBAKsiRVeNqLpQLrdpg2a+ML/a6Crml5X7zMNn6fZzdaFfo6193kWNlFa773KbcttW+1rq/pYuX/panqW9z/zrXGNn/vVo1edQb1Nf//zrXm9Tvybt5+Xjcll53Pr6636KY55H0f5dVO3j7Ul05SK6AIBVEd/pquYxUM2DYb5IL+pCe774L8o+2v3U29Z9zBfn7X5bSwv98pxqPBTta6na51I+PuZrUV93uWweIvOvx7Ha51o+nz+ntddflOvrPpZeQxs97T7LfeprrH9f7X3a57lEdHHezp4UAICfiBJddfF8VgzU29ToaBfydaFdF/FV2cd8P0VZjJfblu206+bPpeyz3m5poV+fS13k16Botc+lfU1FfR3z/df9tc+1XN5+LefKdfPwaJ9n0X6d6+uvz6lcN799+/zqc6u3qa9pfln7POs+5pfV+5U/i6WvQzHf79LfRVHvO3/eexFduYguAGDVeUVXWRC3W7twXrrd/DbXEl1F3X/7uEVZrNfHrNtZC/16+xIXRQ2R1tJzqfubb+1rOG1/bcy0znodVRtdRf3aVO0+1v6u6muqj7X0usv19etV1Oc63/fS12b+/Jf+LoryeXvbvYiuXEQXALAq8wLxtJCBayG6cnEGAQBWZV4gluCav9MCWxBduYguAGBV1gVi/dbE9tv44FqJrlxEFwCwygIRtmWmchFdAMAqC0TYlpnKRXQBAKssEGFbZioX0QUArLJAhG2ZqVxEFwCwygIRtmWmchFdAMAqC0TYlpnKRXQBAKssEGFbZioX0QUArLJAhG2ZqVxEFwCwygIRtmWmchFdAMAqC0TYlpnKRXQBAKssEGFbZioX0QUArLJAhG2ZqVxEFwCwygIRtmWmchFdAMAqC0TYlpnKRXQBAKssEGFbZioX0QUArLJAhG2ZqVxEFwCwygIRtmWmchFdAMAqC0TYlpnKRXQBAKssEGFbZioX0QUArLJAhG2ZqVxEFwCwygIRtmWmchFdAMAqC0TYlpnKRXQBAKssEGFbZioX0QUArLJAhG2ZqVxEFwCwygIRtmWmchFdAMAqC0TYlpnKRXQBAKssEGFbZioX0QUArLJAhG2ZqVxEFwCwygIRtmWmchFdAMAqC0TYlpnKRXQBAKssEGFbZioX0QUArLJAhG2ZqVxEFwCwygIRtmWmchFdAMAqC0TYlpnKRXQBAKssEGFbZioX0QUArLJAhG2ZqVxEFwCwqiwQbTbbtht5iC4AAICORBcAAEBHogsAAKAj0QUAANCR6AIAAOhIdAEAAHQkugAAADoSXQAAAB2JLgAAgI5EFwAAQEeiCwAAoCPRBQAA0JHoAgAA6Eh0AQAAdCS6AAAAOhJdAAAAHYkuAACAjkQXAABAR6ILAACgI9EFAADQkegCAADoSHQBAAB0JLoAAAA6El0AAAAdiS4AAICORBcAAEBHogsAAKAj0QUAANCR6AIAAOhIdAEAAHQkugAAADoSXQAAAB2JLgAAgI5EFwAAQEeiCwAAoCPRBQAA0JHoAgAA6Eh0AQAAdCS6AAAAOhJdAAAAHYkuAACAjkQXAABAR6ILAACgI9EFAADQkegCAADoSHQBAAB0JLoAAAA6El0AAAAdiS4AAICORBcAAEBHogsAAKAj0QUAANCR6AIAAOhIdAEAAHQkugAAADoSXQAAAB2JLgAAgI5EFwAAQEeiCwAAoCPRBQAA0JHoAgAA6Eh0AQAAdCS6AAAAOhJdAAAAHYkuAACAjkQXAABAR6ILAACgI9EFAADQkegCAADoSHQBAAB0JLoAAAA6El0AAAAdiS4AAICORBcAAEBHogsAAKAj0QUAANCR6AIAAOhIdAEAAHQkugAAADoSXQAAAB2JLgAAgI5EFwAAQEeiCwAAoCPRBQAA0JHoAgAA6Gaa/h9Tjwl3JdBHFAAAAABJRU5ErkJggg==)"
      ]
    },
    {
      "cell_type": "code",
      "metadata": {
        "id": "H7dWhWFmVsw3",
        "colab": {
          "base_uri": "https://localhost:8080/"
        },
        "outputId": "a0eee378-a21e-4add-bf8c-f4bcb9f47ebb"
      },
      "source": [
        "class Ispitanie:\n",
        "  def __init__(self,tasks,done,time):\n",
        "    self.tasks=tasks #всего заданий\n",
        "    self.done=done   #правильно сделанных заданий\n",
        "    self.time=time\n",
        "  def mark(self):\n",
        "    M=(self.done/self.tasks)*100\n",
        "    print('Процент выполнения заданий испытания:{}%'.format(M))\n",
        "  \n",
        "  def moloodec(self):\n",
        "    if self.done>=18:\n",
        "      print('Молодец!')\n",
        "    elif self.done>=10:\n",
        "      print('Можно было и постараться...')\n",
        "    else:\n",
        "      print('Ужасно!!!!!')\n",
        "\n",
        "class Test(Ispitanie):\n",
        "  def __init__(self,tasks,done,time):\n",
        "      Ispitanie.__init__(self,tasks,done,time)\n",
        "  \n",
        "  def srtime(self): #среднее время выполнения задания\n",
        "    Sr_vr=self.time/self.tasks\n",
        "    print('Среднее время выполнения задания теста:{}'.format(Sr_vr))\n",
        "  def mark(self): #в зависимости от % выполненной работы, присваиваем оценку\n",
        "    M=(self.done/self.tasks)*100\n",
        "    if M>=90:\n",
        "      print('Оценка за тест: 5')\n",
        "    elif M>=70:\n",
        "      print('Оценка за тест: 4')\n",
        "    elif M>=60:\n",
        "      print('Оценка за тест: 3')\n",
        "    else:\n",
        "      print('Оценка за тест: 2')\n",
        "class Examen(Ispitanie):\n",
        "  def __init__(self,tasks,done,time,members): #добавляю количествто экзаменуемых\n",
        "    Ispitanie.__init__(self,tasks,done,time)  \n",
        "    self.members=members\n",
        "  def otmena(self):\n",
        "    if self.members>=15:\n",
        "      print('Идёт экзамен')\n",
        "    else:\n",
        "      print('Эккзамен отменен') \n",
        "  def mark(self): определяем сдан ли экзамен\n",
        "    B=(self.done/self.tasks)*100\n",
        "    if B>=50:\n",
        "      print('Экзамен сдан')\n",
        "    else:\n",
        "      print('Вы отчислены')\n",
        "class VipuskEx(Examen):\n",
        "  def __init__(self,tasks,done,time,members,subject,usedtime):\n",
        "    Examen.__init__(self,tasks,done,time,members)   \n",
        "    self.subject=subject\n",
        "    self.usedtime=usedtime\n",
        "  def srtime(self): #полиморфизм\n",
        "    K=self.time-self.usedtime\n",
        "    print('Осталость {} мин'.format(K))\n",
        "  \n",
        "\n",
        "      \n",
        "    \n",
        "    \n",
        "\n",
        "Isp1=Ispitanie(20, 10, 30)\n",
        "Isp1.mark()\n",
        "Isp1.moloodec()\n",
        "\n",
        "T1=Test(30,20,45)\n",
        "T1.srtime()\n",
        "T1.mark()\n",
        "\n",
        "E1=Examen(50,15,60,10)\n",
        "E1.otmena()\n",
        "E1.mark()\n",
        "E2=VipuskEx(100,99,120,20,'Math',100)\n",
        "E2.srtime()\n",
        "print('Экзамен по ',E2.subject)"
      ],
      "execution_count": null,
      "outputs": [
        {
          "output_type": "stream",
          "name": "stdout",
          "text": [
            "Процент выполнения заданий испытания:50.0%\n",
            "Можно было и постараться...\n",
            "Среднее время выполнения задания теста:1.5\n",
            "Оценка за тест: 3\n",
            "Эккзамен отменен\n",
            "Вы отчислены\n",
            "Осталость 20 мин\n",
            "Экзамен по  Math\n"
          ]
        }
      ]
    }
  ]
}