{
  "nbformat": 4,
  "nbformat_minor": 0,
  "metadata": {
    "colab": {
      "name": " пр4",
      "provenance": [],
      "collapsed_sections": [],
      "authorship_tag": "ABX9TyNuTLqyzylR6rqx9k9r29dA",
      "include_colab_link": true
    },
    "kernelspec": {
      "name": "python3",
      "display_name": "Python 3"
    },
    "language_info": {
      "name": "python"
    }
  },
  "cells": [
    {
      "cell_type": "markdown",
      "metadata": {
        "id": "view-in-github",
        "colab_type": "text"
      },
      "source": [
        "<a href=\"https://colab.research.google.com/github/KravtsovaAlyona/Laboratornye/blob/main/%D0%BF%D1%804.ipynb\" target=\"_parent\"><img src=\"https://colab.research.google.com/assets/colab-badge.svg\" alt=\"Open In Colab\"/></a>"
      ]
    },
    {
      "cell_type": "markdown",
      "metadata": {
        "id": "OTrVqlbh_CH9"
      },
      "source": [
        "![испыание тест.PNG](data:image/png;base64,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)"
      ]
    },
    {
      "cell_type": "code",
      "metadata": {
        "id": "H7dWhWFmVsw3",
        "colab": {
          "base_uri": "https://localhost:8080/"
        },
        "outputId": "a0eee378-a21e-4add-bf8c-f4bcb9f47ebb"
      },
      "source": [
        "class Ispitanie:\n",
        "  def __init__(self,tasks,done,time):\n",
        "    self.tasks=tasks #всего заданий\n",
        "    self.done=done   #правильно сделанных заданий\n",
        "    self.time=time\n",
        "  def mark(self):\n",
        "    M=(self.done/self.tasks)*100\n",
        "    print('Процент выполнения заданий испытания:{}%'.format(M))\n",
        "  \n",
        "  def moloodec(self):\n",
        "    if self.done>=18:\n",
        "      print('Молодец!')\n",
        "    elif self.done>=10:\n",
        "      print('Можно было и постараться...')\n",
        "    else:\n",
        "      print('Ужасно!!!!!')\n",
        "\n",
        "class Test(Ispitanie):\n",
        "  def __init__(self,tasks,done,time):\n",
        "      Ispitanie.__init__(self,tasks,done,time)\n",
        "  \n",
        "  def srtime(self): #среднее время выполнения задания\n",
        "    Sr_vr=self.time/self.tasks\n",
        "    print('Среднее время выполнения задания теста:{}'.format(Sr_vr))\n",
        "  def mark(self): #в зависимости от % выполненной работы, присваиваем оценку\n",
        "    M=(self.done/self.tasks)*100\n",
        "    if M>=90:\n",
        "      print('Оценка за тест: 5')\n",
        "    elif M>=70:\n",
        "      print('Оценка за тест: 4')\n",
        "    elif M>=60:\n",
        "      print('Оценка за тест: 3')\n",
        "    else:\n",
        "      print('Оценка за тест: 2')\n",
        "class Examen(Ispitanie):\n",
        "  def __init__(self,tasks,done,time,members): #добавляю количествто экзаменуемых\n",
        "    Ispitanie.__init__(self,tasks,done,time)  \n",
        "    self.members=members\n",
        "  def otmena(self):\n",
        "    if self.members>=15:\n",
        "      print('Идёт экзамен')\n",
        "    else:\n",
        "      print('Эккзамен отменен') \n",
        "  def mark(self): # полиморфизм) определяем сдан ли экзамен\n",
        "    B=(self.done/self.tasks)*100\n",
        "    if B>=50:\n",
        "      print('Экзамен сдан')\n",
        "    else:\n",
        "      print('Вы отчислены')\n",
        "class VipuskEx(Examen):\n",
        "  def __init__(self,tasks,done,time,members,subject,usedtime):\n",
        "    Examen.__init__(self,tasks,done,time,members)   \n",
        "    self.subject=subject\n",
        "    self.usedtime=usedtime\n",
        "  def srtime(self): #полиморфизм\n",
        "    K=self.time-self.usedtime\n",
        "    print('Осталость {} мин'.format(K))\n",
        "  \n",
        "\n",
        "      \n",
        "    \n",
        "    \n",
        "\n",
        "Isp1=Ispitanie(20, 10, 30)\n",
        "Isp1.mark()\n",
        "Isp1.moloodec()\n",
        "\n",
        "T1=Test(30,20,45)\n",
        "T1.srtime()\n",
        "T1.mark()\n",
        "\n",
        "E1=Examen(50,15,60,10)\n",
        "E1.otmena()\n",
        "E1.mark()\n",
        "E2=VipuskEx(100,99,120,20,'Math',100)\n",
        "E2.srtime()\n",
        "print('Экзамен по ',E2.subject)"
      ],
      "execution_count": null,
      "outputs": [
        {
          "output_type": "stream",
          "name": "stdout",
          "text": [
            "Процент выполнения заданий испытания:50.0%\n",
            "Можно было и постараться...\n",
            "Среднее время выполнения задания теста:1.5\n",
            "Оценка за тест: 3\n",
            "Эккзамен отменен\n",
            "Вы отчислены\n",
            "Осталость 20 мин\n",
            "Экзамен по  Math\n"
          ]
        }
      ]
    }
  ]
}