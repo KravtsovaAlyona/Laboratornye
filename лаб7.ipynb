{
  "nbformat": 4,
  "nbformat_minor": 0,
  "metadata": {
    "colab": {
      "name": "лаб7",
      "provenance": [],
      "collapsed_sections": [],
      "authorship_tag": "ABX9TyOG1Dr3koT8FtJBdY/nYwrq",
      "include_colab_link": true
    },
    "kernelspec": {
      "name": "python3",
      "display_name": "Python 3"
    },
    "language_info": {
      "name": "python"
    }
  },
  "cells": [
    {
      "cell_type": "markdown",
      "metadata": {
        "id": "view-in-github",
        "colab_type": "text"
      },
      "source": [
        "<a href=\"https://colab.research.google.com/github/KravtsovaAlyona/Laboratornye/blob/main/%D0%BB%D0%B0%D0%B17.ipynb\" target=\"_parent\"><img src=\"https://colab.research.google.com/assets/colab-badge.svg\" alt=\"Open In Colab\"/></a>"
      ]
    },
    {
      "cell_type": "markdown",
      "source": [
        "Для задач 7.2.1-7.2.5 приведено условие задачи и ее решение (ошибочное).\n",
        "\n",
        "Для каждой задачи:\n",
        "\n",
        "используя визуальный просмотр кода, простое журналирование, проверку PEP8 или отладчик в IDE:\n",
        "\n",
        "разберитесь в алгоритме решения;\n",
        "\n",
        "найдите номера строк, в которых есть ошибки, и укажите их в строке документации;\n",
        "\n",
        "исправьте ошибки, минимально изменив код (как правило, заменив строчку на строчку); ошибки исправляются по ходу программы, сверху вниз."
      ],
      "metadata": {
        "id": "DJhmn6pSZpyh"
      }
    },
    {
      "cell_type": "code",
      "execution_count": null,
      "metadata": {
        "colab": {
          "base_uri": "https://localhost:8080/"
        },
        "id": "Flsmo1RNZl__",
        "outputId": "1ad6fc22-75c6-4492-a681-a2f0e45f8942"
      },
      "outputs": [
        {
          "output_type": "execute_result",
          "data": {
            "text/plain": [
              "3"
            ]
          },
          "metadata": {},
          "execution_count": 4
        }
      ],
      "source": [
        "# Программирование на языке высокого уровня (Python).\n",
        "# https://www.yuripetrov.ru/edu/python\n",
        "# Задание task_07_02_01.\n",
        "#\n",
        "# Выполнил: Кравцова\n",
        "# Группа: адэу-211\n",
        "# E-mail: !!!\n",
        "# Ошибки: \"return digit, с обозначено за пределами функции,\"\n",
        "\n",
        "\"\"\"\n",
        "Ошибки (номера строк через пробел, данная строка - №2): !!!\n",
        "\"\"\"\n",
        "\n",
        "\n",
        "def sum_of_digits(n):\n",
        "    \"\"\"Вернуть сумму цифр меньших 5 для положительного целого числа `n`.\n",
        "    Если таких цифр нет, вернуть 0.\"\"\"\n",
        "    c=0\n",
        "    while n > 0:\n",
        "        digit = n % 10\n",
        "        if digit < 5:\n",
        "           c += digit\n",
        "        n //= 10\n",
        "    return c # не тот уровень был и выводилась не сумма, а число\n",
        "\n",
        "sum_of_digits(102)"
      ]
    },
    {
      "cell_type": "code",
      "source": [
        "# Программирование на языке высокого уровня (Python).\n",
        "# https://www.yuripetrov.ru/edu/python\n",
        "# Задание task_07_02_02.\n",
        "#\n",
        "# Выполнил: Кравцова\n",
        "# Группа: адэу-211\n",
        "# E-mail: !!!\n",
        "\n",
        "\n",
        "\"\"\"\n",
        "Ошибки (номера строк через пробел, данная строка - №2): !!!\n",
        "\"\"\"\n",
        "\n",
        "\n",
        "def primes(a, b):\n",
        "    \"\"\"Вернуть список простых чисел на отрезке от 'a' до 'b'.\"\"\"\n",
        "    res = []\n",
        "    c = 0\n",
        "    for i in range(a, b+1):\n",
        "        for j in range(i+1):\n",
        "            if i %(j+1)  == 0:\n",
        "                c += 1\n",
        "            \n",
        "        if c == 2: #был неверный уровень, из-за которого в список попадали элементы, имеющие хотя бы 2 делителя\n",
        "               res.append(i)\n",
        "               c=0\n",
        "        else:\n",
        "          c=0  \n",
        "\n",
        "    return res\n",
        "primes(15,21)"
      ],
      "metadata": {
        "colab": {
          "base_uri": "https://localhost:8080/"
        },
        "id": "yJmjPqPcaJTJ",
        "outputId": "17f4a667-6368-485d-9728-b9201b509518"
      },
      "execution_count": null,
      "outputs": [
        {
          "output_type": "execute_result",
          "data": {
            "text/plain": [
              "[17, 19]"
            ]
          },
          "metadata": {},
          "execution_count": 2
        }
      ]
    },
    {
      "cell_type": "code",
      "source": [
        "# Программирование на языке высокого уровня (Python).\n",
        "# https://www.yuripetrov.ru/edu/python\n",
        "# Задание task_07_02_03.\n",
        "#\n",
        "# Выполнил: Кравцова\n",
        "# Группа: адэу-211\n",
        "# E-mail: !!!\n",
        "\n",
        "\n",
        "\"\"\"\n",
        "Ошибки (номера строк через пробел, данная строка - №2): !!!\n",
        "\"\"\"\n",
        "\n",
        "\n",
        "def first_vacant_row(seats):\n",
        "    max_count = 0\n",
        "    max_row = 0\n",
        "    for row_index, row in enumerate(seats):\n",
        "        available_seats_count = row.count(0)  # 0 - пусто \n",
        "        if available_seats_count > max_count:\n",
        "            max_row = row_index +1\n",
        "            max_count = available_seats_count\n",
        "        else:# не хватало else и цикл из-за этого писал последний ряд , теперь мы прописали, что если количество свободных\n",
        "                                                                               # мест меньше или равно, то ряд пропускается\n",
        "          pass\n",
        "    return max_row, max_count\n",
        "\n",
        "import random\n",
        "\n",
        "random.seed(50)\n",
        "\n",
        "ROWS_MAX = 10\n",
        "SEATS_MAX = 5\n",
        "\n",
        "seats = [[random.randint(0, 1) for seat in range(SEATS_MAX)]\n",
        "                                for row in range(ROWS_MAX)]\n",
        "\n",
        "for seat in seats:\n",
        "   print(seat)\n",
        "print(first_vacant_row(seats))"
      ],
      "metadata": {
        "colab": {
          "base_uri": "https://localhost:8080/"
        },
        "id": "G4_G36iZaOkW",
        "outputId": "be3d217b-ba8d-43d7-a243-37bc105e5a86"
      },
      "execution_count": null,
      "outputs": [
        {
          "output_type": "stream",
          "name": "stdout",
          "text": [
            "[1, 1, 1, 0, 1]\n",
            "[1, 0, 1, 0, 0]\n",
            "[0, 1, 0, 1, 1]\n",
            "[0, 0, 0, 1, 1]\n",
            "[0, 0, 1, 1, 0]\n",
            "[0, 1, 1, 1, 0]\n",
            "[0, 1, 1, 1, 0]\n",
            "[1, 0, 0, 1, 0]\n",
            "[1, 1, 0, 1, 1]\n",
            "[0, 1, 0, 0, 1]\n",
            "(2, 3)\n"
          ]
        }
      ]
    },
    {
      "cell_type": "code",
      "source": [
        "# Программирование на языке высокого уровня (Python).\n",
        "# https://www.yuripetrov.ru/edu/python\n",
        "# Задание task_07_02_04.\n",
        "#\n",
        "# Выполнил: Кравцова\n",
        "# Группа: адэу-211\n",
        "# E-mail: !!!\n",
        "\n",
        "\n",
        "\"\"\"\n",
        "Ошибки (номера строк через пробел, данная строка - №2): !!!\n",
        "\"\"\"\n",
        "\n",
        "\n",
        "def min_pair(nums):\n",
        "    \"\"\"Вернуть минимальную сумму соседних 2-х чисел в списке 'nums'.\"\"\"\n",
        "    mun = nums[0] + nums[1]\n",
        "    b=len(nums)\n",
        "    for i in range(2, b-1): #i+1 выходило за пределы списка, поэтому указала длину -1\n",
        "        mun = min(nums[i] + nums[i+1], mun)#было несколько переменных обозначенных min, переименовала\n",
        "    return mun\n",
        "import random\n",
        "\n",
        "random.seed(50)\n",
        "\n",
        "N_MAX = 10\n",
        "RANGE_MIN = 1\n",
        "RANGE_MAX = 100\n",
        "nums = random.sample(range(RANGE_MIN, RANGE_MAX), N_MAX)\n",
        "print(nums)\n",
        "print(min_pair(nums))"
      ],
      "metadata": {
        "colab": {
          "base_uri": "https://localhost:8080/"
        },
        "id": "BeC__n_TaVqI",
        "outputId": "33baadf0-a0bf-4647-905c-b2403910865c"
      },
      "execution_count": null,
      "outputs": [
        {
          "output_type": "stream",
          "name": "stdout",
          "text": [
            "[64, 35, 47, 82, 32, 89, 61, 99, 43, 11]\n",
            "54\n"
          ]
        }
      ]
    },
    {
      "cell_type": "markdown",
      "source": [
        "Программы 7.2.6-7.2.11 написаны верно, однако содержат места потенциальных ошибок.\n",
        "\n",
        "Для каждой задачи:\n",
        "\n",
        "найдите потенциальные источники ошибок (укажите номера строк в строке документации);\n",
        "\n",
        "используя конструкцию try добавьте в код обработку соответствующих исключений."
      ],
      "metadata": {
        "id": "U2oKeHSmayTt"
      }
    },
    {
      "cell_type": "code",
      "source": [
        "# Программирование на языке высокого уровня (Python).\n",
        "# https://www.yuripetrov.ru/edu/python\n",
        "# Задание task_07_02_06.\n",
        "#\n",
        "# Выполнил: Кравцова\n",
        "# Группа: адэу-211\n",
        "# E-mail: !!!\n",
        "\n",
        "\n",
        "\"\"\"\n",
        "Ошибки (номера строк через пробел, данная строка - №2): !!!\n",
        "\"\"\"\n",
        "\n",
        "\n",
        "def unemployment_rate(unemployed, employed):\n",
        "    \"\"\"Вернуть уровень безработицы (УБ) в долях 1.\n",
        "\n",
        "       Расчет по формуле: УБ = Безработные / (Занятые + Безработные).\n",
        "    \"\"\"\n",
        "    if unemployed > 0 and employed>0:\n",
        "      return unemployed / (unemployed + employed)\n",
        "    else:\n",
        "      raise ValueError('невозможно вычислить уровень безработицы. введите положительные числа')\n",
        "\n",
        "try:\n",
        "  unemployed = int(input(\"Введите кол-во безработных (чел.): \"))#есть возможность вводить отрицательные значения\n",
        "  employed = int(input(\"Введите кол-во занятых (чел.): \"))#есть возможность вводить отрицательные значения\n",
        "  rate = unemployment_rate(unemployed, employed)\n",
        "  print(\"Уровень безработицы = {:.1%}\".format(rate))\n",
        "except ValueError as err:\n",
        "    print(\"Ошибка:\", err)\n",
        "except Exception as err:\n",
        "    print(\"Ошибка:\", err)"
      ],
      "metadata": {
        "colab": {
          "base_uri": "https://localhost:8080/"
        },
        "id": "LjHsN2uIalee",
        "outputId": "183c3f83-b9b3-4ffe-fe58-0904df9d9c75"
      },
      "execution_count": null,
      "outputs": [
        {
          "output_type": "stream",
          "name": "stdout",
          "text": [
            "Введите кол-во безработных (чел.): -1\n",
            "Введите кол-во занятых (чел.): 3\n",
            "Ошибка: невозможно вычислить уровень безработицы. введите положительные числа\n"
          ]
        }
      ]
    },
    {
      "cell_type": "code",
      "source": [
        "# Программирование на языке высокого уровня (Python).\n",
        "# https://www.yuripetrov.ru/edu/python\n",
        "# Задание task_07_02_07.\n",
        "#\n",
        "# Выполнила: Кравцова \n",
        "# Группа: АДЭУ-211\n",
        "# E-mail: \n",
        "\n",
        "\n",
        "\"\"\"\n",
        "Ошибки: 24\n",
        "\"\"\"\n",
        "\"\"\"Вернуть x^y.\"\"\"\n",
        "\n",
        "def power(x, y=2):\n",
        "    if y == 0:\n",
        "        return 1\n",
        "    elif x == 0:\n",
        "        raise ValueError('Введите натуральное число')\n",
        "    else:\n",
        "        return x * power(x, y - 1)\n",
        "\n",
        "try:\n",
        "  x = int(input(\"x=\"))\n",
        "  y = int(input(\"y=\"))\n",
        "  print(power(x, y))\n",
        "\n",
        "except ValueError as err:\n",
        "  print(\"Ошибка:\", err)"
      ],
      "metadata": {
        "colab": {
          "base_uri": "https://localhost:8080/"
        },
        "id": "kTlYdDUrhYM_",
        "outputId": "64f7c7ce-b21a-44c9-d5bf-48761fe7ed40"
      },
      "execution_count": null,
      "outputs": [
        {
          "output_type": "stream",
          "name": "stdout",
          "text": [
            "x=0\n",
            "y=-2\n",
            "Ошибка: Введите натуральное число\n"
          ]
        }
      ]
    }
  ]
}